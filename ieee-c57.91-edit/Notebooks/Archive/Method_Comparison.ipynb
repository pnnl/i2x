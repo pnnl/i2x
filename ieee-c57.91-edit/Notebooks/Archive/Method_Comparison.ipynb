{
 "cells": [
  {
   "cell_type": "markdown",
   "metadata": {},
   "source": [
    "This notebook performs a comparison of the different methods for solving the temperature equations using different differential equation solvers.\n",
    "\n",
    "This file is part of IEEE C57.91 2024 project which is released under BSD-3-Clause.\n",
    "See file LICENSE.md or go to https://opensource.ieee.org/inslife/ieee-c57.91-2024/ for full license details."
   ]
  },
  {
   "cell_type": "code",
   "execution_count": null,
   "metadata": {},
   "outputs": [],
   "source": [
    "import transformer_thermal_models\n",
    "from transformer_thermal_models import Transformer, LoadConditions\n",
    "\n",
    "import numpy as np\n",
    "\n",
    "import copy"
   ]
  },
  {
   "cell_type": "code",
   "execution_count": null,
   "metadata": {},
   "outputs": [],
   "source": [
    "#Load transformer data\n",
    "xfmr = Transformer()\n",
    "xfmr.from_json('../Example_Data/transformer_thermal_nameplate.json')\n",
    "xfmr.cooling_system = 'OFAF'\n",
    "#Load loading conditions file\n",
    "lc = LoadConditions()\n",
    "\n",
    "# Try long duration constant loading or Short duration over loading\n",
    "if True:\n",
    "    # make up some load conditions on the fly\n",
    "    time = np.linspace(0,5000,5000)\n",
    "    load = np.zeros(5000)+0.5\n",
    "    T_ambient = np.zeros(5000)+30\n",
    "    T_ambient += 5*np.sin(np.pi*time/12/60)\n",
    "    load[10:] = 0.5\n",
    "    load[2100:] = 1.0\n",
    "    load[3700:] = 0.5\n",
    "\n",
    "    lc.load = load\n",
    "    lc.time = time\n",
    "    lc.T_ambient = T_ambient\n",
    "    lc.update_profiles()\n",
    "else:\n",
    "    #Load loading conditions file\n",
    "    lc = LoadConditions()\n",
    "    lc.import_data('../Example_Data/test_data_2.csv')\n",
    "\n",
    "#Execute functions from transformer_thermal_models on the two classes\n",
    "# try 'clause_7_diff' instead\n",
    "transformer_thermal_models.solve_temperatures(xfmr,lc,'main_clause_7_diff')\n",
    "\n",
    "out = transformer_thermal_models.plot_results(xfmr,lc)"
   ]
  },
  {
   "cell_type": "code",
   "execution_count": null,
   "metadata": {},
   "outputs": [],
   "source": [
    "\n",
    "#Load transformer data\n",
    "xfmr2 = copy.copy(xfmr)\n",
    "\n",
    "#Execute functions from transformer_thermal_models on the two classes\n",
    "# try 'clause_7_diff' instead\n",
    "transformer_thermal_models.solve_temperatures(xfmr2,lc,'old_clause_7_analytical')\n",
    "\n",
    "out = transformer_thermal_models.plot_results(xfmr2,lc)"
   ]
  },
  {
   "cell_type": "code",
   "execution_count": null,
   "metadata": {},
   "outputs": [],
   "source": [
    "#Load transformer data\n",
    "xfmr3 = copy.copy(xfmr)\n",
    "\n",
    "#Execute functions from transformer_thermal_models on the two classes\n",
    "# try 'clause_7_diff' instead\n",
    "transformer_thermal_models.solve_temperatures(xfmr3,lc,'alt_clause_7_diff')\n",
    "\n",
    "out = transformer_thermal_models.plot_results(xfmr3,lc)"
   ]
  },
  {
   "cell_type": "code",
   "execution_count": null,
   "metadata": {},
   "outputs": [],
   "source": [
    "import matplotlib.pyplot as plt\n",
    "\n",
    "plt.figure(figsize=(8,6),dpi=300)\n",
    "\n",
    "plt.plot(xfmr.solution['Time [Minutes]'],xfmr.solution['Top Liquid [C]'],label='Main C7 (RK45)')\n",
    "plt.plot(xfmr2.solution['Time [Minutes]'],xfmr2.solution['Top Liquid [C]'],label='Old C7 (Analytical)')\n",
    "plt.plot(xfmr3.solution['Time [Minutes]'],xfmr3.solution['Top Liquid [C]'],label='Alt C7 (RK45)',ls='--')\n",
    "\n",
    "plt.plot(lc.time,lc.T_ambient,label='Ambient',ls=':')\n",
    "\n",
    "plt.axhline(xfmr.T_ambr+xfmr.T_tor,color='k',ls='--')\n",
    "\n",
    "plt.legend()\n",
    "\n",
    "plt.ylabel('Top Oil [C]')\n",
    "plt.xlabel('Time [Min]')\n",
    "\n",
    "plt.show()"
   ]
  },
  {
   "cell_type": "code",
   "execution_count": null,
   "metadata": {},
   "outputs": [],
   "source": [
    "import matplotlib.pyplot as plt\n",
    "\n",
    "plt.figure(figsize=(8,6),dpi=300)\n",
    "\n",
    "plt.plot(xfmr.solution['Time [Minutes]'],xfmr.solution['Hot Spot [C]'],label='Main C7 (RK45)')\n",
    "plt.plot(xfmr2.solution['Time [Minutes]'],xfmr2.solution['Hot Spot [C]'],label='Old C7 (Analytical)')\n",
    "plt.plot(xfmr3.solution['Time [Minutes]'],xfmr3.solution['Hot Spot [C]'],label='Alt C7 (RK45)',ls='--')\n",
    "\n",
    "plt.plot(lc.time,lc.T_ambient,label='Ambient',ls=':')\n",
    "\n",
    "plt.axhline(xfmr.T_ambr+xfmr.T_hsr,color='k',ls='--')\n",
    "\n",
    "plt.legend()\n",
    "\n",
    "plt.ylabel('Hot Spot [C]')\n",
    "plt.xlabel('Time [Min]')\n",
    "plt.title('Hot Spot Temperature vs Solver')\n",
    "\n",
    "plt.show()"
   ]
  },
  {
   "cell_type": "code",
   "execution_count": null,
   "metadata": {},
   "outputs": [],
   "source": [
    "output = transformer_thermal_models.solve_max_hotspot(xfmr,0.5,1.0,1.8,0.1,15,30,5,30,'alt_clause_7_diff')"
   ]
  },
  {
   "cell_type": "code",
   "execution_count": null,
   "metadata": {},
   "outputs": [],
   "source": [
    "out = transformer_thermal_models.plot_max_hotspot(xfmr,output)"
   ]
  },
  {
   "cell_type": "code",
   "execution_count": null,
   "metadata": {},
   "outputs": [],
   "source": [
    "output = transformer_thermal_models.solve_max_hotspot(xfmr,0.5,1.0,1.8,0.1,15,30,5,30,'old_clause_7_analytical')"
   ]
  },
  {
   "cell_type": "code",
   "execution_count": null,
   "metadata": {},
   "outputs": [],
   "source": [
    "out = transformer_thermal_models.plot_max_hotspot(xfmr,output)"
   ]
  },
  {
   "cell_type": "code",
   "execution_count": null,
   "metadata": {},
   "outputs": [],
   "source": [
    "output = transformer_thermal_models.solve_max_hotspot(xfmr,0.5,1.0,1.8,0.1,15,30,5,30,'main_clause_7_diff')\n",
    "out = transformer_thermal_models.plot_max_hotspot(xfmr,output)"
   ]
  },
  {
   "cell_type": "code",
   "execution_count": null,
   "metadata": {},
   "outputs": [],
   "source": []
  }
 ],
 "metadata": {
  "kernelspec": {
   "display_name": "Python 3",
   "language": "python",
   "name": "python3"
  },
  "language_info": {
   "codemirror_mode": {
    "name": "ipython",
    "version": 3
   },
   "file_extension": ".py",
   "mimetype": "text/x-python",
   "name": "python",
   "nbconvert_exporter": "python",
   "pygments_lexer": "ipython3",
   "version": "3.9.13"
  }
 },
 "nbformat": 4,
 "nbformat_minor": 4
}
