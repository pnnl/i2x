{
 "cells": [
  {
   "cell_type": "markdown",
   "metadata": {},
   "source": [
    "This notebook performs aging calcualtions based on the thermal model output\n",
    "\n",
    "This file is part of IEEE C57.91 2024 project which is released under BSD-3-Clause.\n",
    "See file LICENSE.md or go to https://opensource.ieee.org/inslife/ieee-c57.91-2024/ for full license details."
   ]
  },
  {
   "cell_type": "code",
   "execution_count": null,
   "metadata": {},
   "outputs": [],
   "source": [
    "import numpy as np\n",
    "import matplotlib.pyplot as plt\n",
    "from scipy import integrate \n",
    "\n",
    "from transformer_thermal_models import estimate_loss_of_life"
   ]
  },
  {
   "cell_type": "code",
   "execution_count": null,
   "metadata": {},
   "outputs": [],
   "source": [
    "time = np.arange(60.*24.)\n",
    "t_hs = np.zeros(60*24)+90.\n",
    "t_hs[500:800] = 120.\n",
    "\n",
    "nominal_insulation_life = 180000."
   ]
  },
  {
   "cell_type": "code",
   "execution_count": null,
   "metadata": {},
   "outputs": [],
   "source": [
    "pul,V,F_eqa,loss_of_life = estimate_loss_of_life(t_hs,time)"
   ]
  },
  {
   "cell_type": "code",
   "execution_count": null,
   "metadata": {},
   "outputs": [],
   "source": [
    "axs = plt.subplots(2,2,figsize=(8,6),dpi=300)\n",
    "axs[1]\n",
    "\n",
    "axs[1][0][0].plot(time,t_hs)\n",
    "axs[1][0][0].axhline(110,color='k',ls='--')\n",
    "axs[1][0][0].set_ylabel('Hot Spot [C]')\n",
    "axs[1][0][0].set_xlabel('Time [Minutes]')\n",
    "\n",
    "axs[1][0][1].plot(time,pul)\n",
    "axs[1][0][1].axhline(1,color='k',ls='--')\n",
    "axs[1][0][1].set_ylabel('PUL')\n",
    "axs[1][0][1].set_xlabel('Time [Minutes]')\n",
    "\n",
    "axs[1][1][0].plot(time,V,label='F_aa')\n",
    "axs[1][1][0].plot(time,F_eqa,label='F_eqa')\n",
    "axs[1][1][0].axhline(1,color='k',ls='--')\n",
    "axs[1][1][0].set_ylabel(r'F')\n",
    "axs[1][1][0].set_xlabel('Time [Minutes]')\n",
    "axs[1][1][0].legend()\n",
    "\n",
    "axs[1][1][1].plot(time,loss_of_life,'--',label='est. heat aging')\n",
    "axs[1][1][1].plot(time,time/60/nominal_insulation_life*100,':',label='nominal aging')\n",
    "axs[1][1][1].set_ylabel(r'Loss of Life [%]')\n",
    "axs[1][1][1].set_xlabel('Time [Minutes]')\n",
    "axs[1][1][1].legend()\n",
    "\n",
    "plt.tight_layout()\n",
    "plt.show()"
   ]
  },
  {
   "cell_type": "code",
   "execution_count": null,
   "metadata": {},
   "outputs": [],
   "source": [
    "# test for nominal aging at rated hot-spot temperature, loss of life should be 0.0133%\n",
    "\n",
    "v,f1,f2,lol = estimate_loss_of_life(np.array([110,110]),np.array([24.*60.,24.*60.]),nominal_insulation_life=nominal_insulation_life)\n",
    "\n",
    "cond = np.round(lol[-1],4) == 0.0133 \n",
    "\n",
    "assert cond \n",
    "\n",
    "cond"
   ]
  },
  {
   "cell_type": "code",
   "execution_count": null,
   "metadata": {},
   "outputs": [],
   "source": [
    "# test for nominal aging at rated hot-spot temperature\n",
    "\n",
    "v,f1,f2,lol = estimate_loss_of_life(np.array([140,140]),np.array([10.5*60.,10.5*60.]),nominal_insulation_life=nominal_insulation_life)\n",
    "\n",
    "cond = np.round(lol[-1],1) == 0.1\n",
    "\n",
    "assert cond \n",
    "\n",
    "cond"
   ]
  },
  {
   "cell_type": "code",
   "execution_count": null,
   "metadata": {},
   "outputs": [],
   "source": [
    "# test for nominal aging at rated hot-spot temperature\n",
    "\n",
    "v,f1,f2,lol = estimate_loss_of_life(np.array([200,200]),np.array([0.42*60.,0.42*60.]),nominal_insulation_life=nominal_insulation_life)\n",
    "\n",
    "cond = np.round(lol[-1],1) == 0.4\n",
    "\n",
    "assert cond \n",
    "\n",
    "cond"
   ]
  },
  {
   "cell_type": "code",
   "execution_count": null,
   "metadata": {},
   "outputs": [],
   "source": [
    "v,f1,f2,lol = estimate_loss_of_life(np.array([110,110]),np.array([24*60,24*60]))"
   ]
  },
  {
   "cell_type": "code",
   "execution_count": null,
   "metadata": {},
   "outputs": [],
   "source": [
    "v,f1,f2,lol2 = estimate_loss_of_life(np.array([95,95]),np.array([24*60,24*60]))"
   ]
  },
  {
   "cell_type": "code",
   "execution_count": null,
   "metadata": {},
   "outputs": [],
   "source": [
    "lol[-1]/lol2[-1]"
   ]
  }
 ],
 "metadata": {
  "kernelspec": {
   "display_name": "Python 3",
   "language": "python",
   "name": "python3"
  },
  "language_info": {
   "codemirror_mode": {
    "name": "ipython",
    "version": 3
   },
   "file_extension": ".py",
   "mimetype": "text/x-python",
   "name": "python",
   "nbconvert_exporter": "python",
   "pygments_lexer": "ipython3",
   "version": "3.9.13"
  }
 },
 "nbformat": 4,
 "nbformat_minor": 4
}
