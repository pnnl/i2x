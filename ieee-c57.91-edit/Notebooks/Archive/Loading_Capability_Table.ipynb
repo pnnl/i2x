{
 "cells": [
  {
   "cell_type": "markdown",
   "metadata": {},
   "source": [
    "This notebook performs a series of thermal calculations to assess the loading capability of a transformer given various operating conditions.\n",
    "\n",
    "This file is part of IEEE C57.91 2024 project which is released under BSD-3-Clause.\n",
    "See file LICENSE.md or go to https://opensource.ieee.org/inslife/ieee-c57.91-2024/ for full license details."
   ]
  },
  {
   "cell_type": "code",
   "execution_count": null,
   "metadata": {},
   "outputs": [],
   "source": [
    "import transformer_thermal_models\n",
    "from transformer_thermal_models import Transformer, LoadConditions\n",
    "\n",
    "import pandas as pd\n",
    "\n",
    "import numpy as np"
   ]
  },
  {
   "cell_type": "code",
   "execution_count": null,
   "metadata": {},
   "outputs": [],
   "source": [
    "#Load transformer data\n",
    "xfmr = Transformer()\n",
    "xfmr.from_json('../Example_Data/transformer_thermal_nameplate.json')\n",
    "\n",
    "#Load loading conditions file\n",
    "lc = LoadConditions()\n"
   ]
  },
  {
   "cell_type": "code",
   "execution_count": null,
   "metadata": {},
   "outputs": [],
   "source": [
    "initial_load = 0.5\n",
    "max_T_hs = 110\n",
    "permissable_estimated_loss_of_life = 0.05\n",
    "\n",
    "condition_string = 'Initial Load = '+str(initial_load)+'; T_hs < '+str(max_T_hs)+' [C]'\n",
    "\n",
    "test_load = np.flip(np.round(np.arange(initial_load, 2.1, 0.1), 3))\n",
    "test_ambient = [-25,-20,-10,0,10,20,30,40]\n",
    "test_time = [0.5,1.0,2.0,4.0,8.0,24.]\n",
    "\n",
    "test_load,test_ambient,test_time\n",
    "\n",
    "columns=pd.MultiIndex.from_product([[condition_string],test_ambient], names=['Maximum Permissible Overload:','Ambient Temperature [C]: '])\n",
    "permissible_load_table = pd.DataFrame(columns=columns,index=pd.Index(test_time,name='Duration [Hours]'))\n",
    "\n",
    "permissible_load_table"
   ]
  },
  {
   "cell_type": "code",
   "execution_count": null,
   "metadata": {},
   "outputs": [],
   "source": [
    "for overload_time in test_time:\n",
    "    last_overload_amount = np.inf\n",
    "    for ambient in test_ambient:\n",
    "        for overload_amount in test_load:\n",
    "            print(overload_time,ambient,overload_amount)\n",
    "                  \n",
    "            if overload_amount-0.2 > last_overload_amount:\n",
    "                # use the last permissible model to infer what 'hotter' step parameters can obvioulsy be skipped\n",
    "                # can significantly reduce the computation time\n",
    "                print(\"Skipping: \",overload_time,ambient,overload_amount)\n",
    "                continue\n",
    "                \n",
    "            time = np.linspace(0,48*60,48*60)\n",
    "            load = np.zeros(48*60)+initial_load\n",
    "            T_ambient = np.zeros(48*60)+ambient\n",
    "            \n",
    "            load[24*60:24*60+int(60*overload_time)] = overload_amount\n",
    "\n",
    "            lc.load = load\n",
    "            lc.time = time\n",
    "            lc.T_ambient = T_ambient\n",
    "            #lc.overexcited = oe\n",
    "            lc.update_profiles()\n",
    "            \n",
    "            transformer_thermal_models.solve_temperatures(xfmr,lc,'main_clause_7_diff')\n",
    "            \n",
    "            #criteria for \"permissible overload\"\n",
    "            print(max(xfmr.solution['Hot Spot [C]']))\n",
    "            if max(xfmr.solution['Hot Spot [C]']) < max_T_hs:\n",
    "                permissible_load_table[condition_string][ambient][overload_time] = overload_amount\n",
    "                print(\"Overload: \",overload_amount)\n",
    "                last_overload_amount = overload_amount\n",
    "                break\n",
    "                \n",
    "solved_permissible_load_table = permissible_load_table.copy()          "
   ]
  },
  {
   "cell_type": "code",
   "execution_count": null,
   "metadata": {},
   "outputs": [],
   "source": [
    "solved_permissible_load_table.style.format(precision=1).format_index(precision=1)"
   ]
  },
  {
   "cell_type": "code",
   "execution_count": null,
   "metadata": {},
   "outputs": [],
   "source": [
    "permissable_estimated_loss_of_life = 0.04\n",
    "condition_string = 'Initial Load = '+str(initial_load)+'; T_hs < 180 [C]; %ELOL = '+str(permissable_estimated_loss_of_life*100)\n",
    "columns=pd.MultiIndex.from_product([[condition_string],test_ambient], names=['Maximum Permissible Overload:','Ambient Temperature [C]: '])\n",
    "permissible_load_table = pd.DataFrame(columns=columns,index=pd.Index(test_time,name='Duration [Hours]'))"
   ]
  },
  {
   "cell_type": "code",
   "execution_count": null,
   "metadata": {},
   "outputs": [],
   "source": [
    "for overload_time in test_time:\n",
    "    last_overload_amount = np.inf\n",
    "    for ambient in test_ambient:\n",
    "        for overload_amount in test_load:\n",
    "            print(overload_time,ambient,overload_amount)\n",
    "                  \n",
    "            if overload_amount-0.2 > last_overload_amount:\n",
    "                # use the last permissible model to infer what 'hotter' step parameters can obvioulsy be skipped\n",
    "                # can significantly reduce the computation time\n",
    "                print(\"Skipping: \",overload_time,ambient,overload_amount)\n",
    "                continue\n",
    "                \n",
    "            time = np.linspace(0,48*60,48*60)\n",
    "            load = np.zeros(48*60)+initial_load\n",
    "            T_ambient = np.zeros(48*60)+ambient\n",
    "            \n",
    "            load[24*60:24*60+int(60*overload_time)] = overload_amount\n",
    "\n",
    "            lc.load = load\n",
    "            lc.time = time\n",
    "            lc.T_ambient = T_ambient\n",
    "            #lc.overexcited = oe\n",
    "            lc.update_profiles()\n",
    "            \n",
    "            transformer_thermal_models.solve_temperatures(xfmr,lc,'main_clause_7_diff')\n",
    "            \n",
    "            xfmr = transformer_thermal_models.solve_estimated_loss_of_life(xfmr,lc)\n",
    "            \n",
    "            #criteria for \"permissible overload\"\n",
    "            print(max(xfmr.solution['Est. Loss of Life']))\n",
    "            if (max(xfmr.solution['Hot Spot [C]']) < 180) & (max(xfmr.solution['Est. Loss of Life']) < 4):\n",
    "                permissible_load_table[condition_string][ambient][overload_time] = overload_amount\n",
    "                print(\"Overload: \",overload_amount)\n",
    "                last_overload_amount = overload_amount\n",
    "                break\n",
    "                \n",
    "solved_permissible_load_table = permissible_load_table.copy()          "
   ]
  },
  {
   "cell_type": "code",
   "execution_count": null,
   "metadata": {},
   "outputs": [],
   "source": [
    "solved_permissible_load_table.style.format(precision=1).format_index(precision=1)"
   ]
  },
  {
   "cell_type": "code",
   "execution_count": null,
   "metadata": {},
   "outputs": [],
   "source": []
  }
 ],
 "metadata": {
  "kernelspec": {
   "display_name": "Python 3",
   "language": "python",
   "name": "python3"
  },
  "language_info": {
   "codemirror_mode": {
    "name": "ipython",
    "version": 3
   },
   "file_extension": ".py",
   "mimetype": "text/x-python",
   "name": "python",
   "nbconvert_exporter": "python",
   "pygments_lexer": "ipython3",
   "version": "3.9.13"
  }
 },
 "nbformat": 4,
 "nbformat_minor": 4
}
