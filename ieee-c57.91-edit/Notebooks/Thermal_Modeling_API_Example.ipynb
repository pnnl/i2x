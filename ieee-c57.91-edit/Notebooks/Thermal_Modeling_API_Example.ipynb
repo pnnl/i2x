{
 "cells": [
  {
   "cell_type": "markdown",
   "metadata": {},
   "source": [
    "This notebook performs quick thermal calculation that illustrates how an automated software interface could use this python code as a module.\n",
    "\n",
    "This file is part of IEEE C57.91 2024 project which is released under BSD-3-Clause.\n",
    "See file LICENSE.md or go to https://opensource.ieee.org/inslife/ieee-c57.91-2024/ for full license details."
   ]
  },
  {
   "cell_type": "code",
   "execution_count": null,
   "metadata": {},
   "outputs": [],
   "source": [
    "import transformer_thermal_models\n",
    "from transformer_thermal_models import Transformer, LoadConditions"
   ]
  },
  {
   "cell_type": "code",
   "execution_count": null,
   "metadata": {},
   "outputs": [],
   "source": [
    "#Load transformer data\n",
    "xfmr = Transformer()\n",
    "xfmr.from_json('../Example_Data/transformer_thermal_nameplate.json')\n",
    "\n",
    "#Load loading conditions file\n",
    "lc = LoadConditions()\n",
    "lc.import_data('../Example_Data/test_data_2.csv')\n",
    "\n",
    "#Execute functions from transformer_thermal_models on the two classes\n",
    "# try 'clause_7_diff' instead\n",
    "transformer_thermal_models.methods.solve_temperatures(xfmr,lc,'main_clause_7_diff')\n",
    "\n",
    "out = transformer_thermal_models.plotting.plot_results(xfmr,lc)"
   ]
  },
  {
   "cell_type": "code",
   "execution_count": null,
   "metadata": {},
   "outputs": [],
   "source": [
    "#Export the data to a local CSV file\n",
    "csv_data = transformer_thermal_models.export_data(xfmr,lc)\n",
    "with open('example_output_model_data.csv','w') as f:\n",
    "    f.write(csv_data)"
   ]
  },
  {
   "cell_type": "code",
   "execution_count": null,
   "metadata": {},
   "outputs": [],
   "source": []
  }
 ],
 "metadata": {
  "kernelspec": {
   "display_name": "Python 3",
   "language": "python",
   "name": "python3"
  },
  "language_info": {
   "codemirror_mode": {
    "name": "ipython",
    "version": 3
   },
   "file_extension": ".py",
   "mimetype": "text/x-python",
   "name": "python",
   "nbconvert_exporter": "python",
   "pygments_lexer": "ipython3",
   "version": "3.9.13"
  }
 },
 "nbformat": 4,
 "nbformat_minor": 4
}
