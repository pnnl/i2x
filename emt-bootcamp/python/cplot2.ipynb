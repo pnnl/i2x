{
 "cells": [
  {
   "cell_type": "markdown",
   "id": "072166a1",
   "metadata": {},
   "source": [
    "Run this cell to define support functions"
   ]
  },
  {
   "cell_type": "code",
   "execution_count": null,
   "id": "7d58f38a",
   "metadata": {},
   "outputs": [],
   "source": [
    "import sys\n",
    "import os\n",
    "import math\n",
    "import numpy as np\n",
    "from comtrade import Comtrade\n",
    "\n",
    "kVLNbase = 230.0 / math.sqrt(3.0)\n",
    "MVAbase = 100.0\n",
    "kAbase = MVAbase / kVLNbase / 3.0\n",
    "\n",
    "def scale_factor(lbl):\n",
    "  if 'P' in lbl:\n",
    "    return 1.0 / MVAbase\n",
    "  elif 'Q' in lbl:\n",
    "    return 1.0 / MVAbase\n",
    "  elif 'I' in lbl:\n",
    "    return 1.0 / kAbase / math.sqrt(2.0)\n",
    "  elif 'Vrms' in lbl:\n",
    "    return 1.0\n",
    "  elif 'V' in lbl:\n",
    "    return 1.0 / kVLNbase / math.sqrt(2.0)\n",
    "  return 1.0\n",
    "\n",
    "# load all the analog channels from each case into dictionaries of numpy arrays. Expecting:\n",
    "#   1..3 = Va..Vc\n",
    "#   4..6 = Ia..Ic\n",
    "#   7 = Vrms\n",
    "#   8 = P\n",
    "#   9 = Q\n",
    "#   10 = F\n",
    "def load_channels(comtrade_path):\n",
    "  rec = Comtrade ()\n",
    "  rec.load (comtrade_path + '.cfg', comtrade_path + '.dat')\n",
    "  t = np.array(rec.time)\n",
    "\n",
    "  channels = {}\n",
    "  units = {}\n",
    "  channels['t'] = t\n",
    "  print ('Channels ({:d} points) read from {:s}.cfg:'.format (len(t), comtrade_path))\n",
    "  for i in range(rec.analog_count):\n",
    "    lbl = rec.analog_channel_ids[i].strip()\n",
    "    # for PSCAD naming convention, truncate the channel at first colon, if one exists\n",
    "    idx = lbl.find(':')\n",
    "    if idx >= 0:\n",
    "      lbl = lbl[0:idx]\n",
    "    ch_config = rec.cfg.analog_channels[i]\n",
    "    scale = 1.0\n",
    "    if ch_config.pors.upper() == 'P':\n",
    "      scale = ch_config.secondary / ch_config.primary\n",
    "    elif ch_config.pors.upper() == 'S':\n",
    "      scale = ch_config.primary / ch_config.secondary\n",
    "    print ('  \"{:s}\" [{:s}] scale={:.6e}'.format(lbl, ch_config.uu, scale))\n",
    "    channels[lbl] = scale * np.array (rec.analog[i])\n",
    "    units[lbl] = ch_config.uu\n",
    "\n",
    "  return channels, units"
   ]
  },
  {
   "cell_type": "markdown",
   "id": "b52e8721",
   "metadata": {},
   "source": [
    "Run this next cell to enable [Matplotlib](https://matplotlib.org/)"
   ]
  },
  {
   "cell_type": "code",
   "execution_count": null,
   "id": "7721e5f5",
   "metadata": {},
   "outputs": [],
   "source": [
    "import matplotlib.pyplot as plt\n",
    "\n",
    "def setup_plot_options():\n",
    "  plt.rcParams['savefig.directory'] = os.getcwd()\n",
    "  lsize = 12\n",
    "  plt.rc('font', family='serif')\n",
    "  plt.rc('xtick', labelsize=lsize)\n",
    "  plt.rc('ytick', labelsize=lsize)\n",
    "  plt.rc('axes', labelsize=lsize)\n",
    "  plt.rc('legend', fontsize=lsize)\n",
    "\n",
    "def show_case_plot(channels, units, case_title):\n",
    "  t = channels['t']\n",
    "  fig, ax = plt.subplots(5, 1, sharex = 'col', figsize=(8,6), constrained_layout=True)\n",
    "  fig.suptitle ('Case: ' + case_title)\n",
    "  for lbl in ['VA', 'VB', 'VC']:\n",
    "    ax[0].plot (t, scale_factor(lbl) * channels[lbl], label=lbl)\n",
    "    ax[0].set_ylabel ('v(t) [pu]')\n",
    "  for lbl in ['IA', 'IB', 'IC']:\n",
    "    ax[1].plot (t, scale_factor(lbl) * channels[lbl], label=lbl)\n",
    "    ax[1].set_ylabel ('i(t) [pu]')\n",
    "  for lbl in ['Vrms']:\n",
    "    ax[2].plot (t, scale_factor(lbl) * channels[lbl], label=lbl)\n",
    "    ax[2].set_ylabel ('V [pu]')\n",
    "  for lbl in ['P', 'Q']:\n",
    "    ax[3].plot (t, scale_factor(lbl) * channels[lbl], label=lbl)\n",
    "    ax[3].set_ylabel ('P, Q [pu]')\n",
    "  for lbl in ['F']:\n",
    "    ax[4].plot (t, scale_factor(lbl) * channels[lbl], label=lbl)\n",
    "    ax[4].set_ylabel ('F [Hz]')\n",
    "  for i in range(5):\n",
    "    ax[i].grid()\n",
    "    ax[i].legend()\n",
    "#    ax[i].set_xlim (t[0], t[-1])\n",
    "    ax[i].set_xlim (0.75, 1.75)\n",
    "  ax[4].set_xlabel ('seconds')\n",
    "  plt.show()\n",
    "#  plt.close()\n",
    "\n",
    "def show_comparison_plot (ibr, rm, units):\n",
    "  fig, ax = plt.subplots(4, 1, sharex = 'col', figsize=(8,6), constrained_layout=True)\n",
    "  fig.suptitle ('Comparing IBR and Machine Behaviors')\n",
    "\n",
    "  channel_labels = ['Vrms', 'P', 'Q', 'F']\n",
    "  y_labels = ['Vrms [pu]', 'P [pu]', 'Q [pu]', 'F [Hz]']\n",
    "  x_ticks = [0.75, 1.00, 1.25, 1.50, 1.75]\n",
    "\n",
    "  for i in range(4):\n",
    "    lbl = channel_labels[i]\n",
    "    ax[i].set_ylabel (y_labels[i])\n",
    "    ax[i].plot (ibr['t'], scale_factor(lbl) * ibr[lbl], label='IBR')\n",
    "    ax[i].plot (rm['t'], scale_factor(lbl) * rm[lbl], label='Machine')\n",
    "    ax[i].set_xticks (x_ticks)\n",
    "    ax[i].set_xlim (x_ticks[0], x_ticks[-1])\n",
    "    ax[i].grid()\n",
    "    ax[i].legend()\n",
    "  ax[3].set_xlabel ('Time [s]')\n",
    "  plt.show()\n",
    "#  plt.close()\n",
    "\n",
    "def show_test_plot (channels, units, case_title):\n",
    "  t = channels['t']\n",
    "  labels = []\n",
    "  for lbl in channels:\n",
    "    if lbl != 't':\n",
    "      labels.append(lbl)\n",
    "  fig, ax = plt.subplots(len(labels), 1, sharex = 'col', figsize=(8,8), constrained_layout=True)\n",
    "  fig.suptitle ('Case: ' + case_title)\n",
    "  for i in range(len(labels)):\n",
    "    lbl = labels[i]\n",
    "    ax[i].plot(t, channels[lbl], label=lbl)\n",
    "    ax[i].set_ylabel (units[lbl])\n",
    "    ax[i].grid()\n",
    "    ax[i].legend()\n",
    "  ax[i].set_xlabel ('Time [s]')\n",
    "  ax[i].set_xlim (t[0], int(t[-1]+0.5))\n",
    "  plt.show()\n",
    "#  plt.close()\n",
    "\n",
    "# display all of the channels in groups of three\n",
    "%matplotlib widget\n",
    "\n",
    "setup_plot_options()"
   ]
  },
  {
   "cell_type": "markdown",
   "id": "f8e9e760",
   "metadata": {},
   "source": [
    "Run the next cell for PSCAD results import"
   ]
  },
  {
   "cell_type": "code",
   "execution_count": null,
   "id": "74d56a55",
   "metadata": {
    "scrolled": true
   },
   "outputs": [],
   "source": [
    "# set the session_path to match location of your unzipped sample cases\n",
    "session_path = 'c:/temp/i2x/pscad/'\n",
    "ibr_path = os.path.join (session_path, 'Solar2.if18_x86/rank_00001/Run_00001/IBR')\n",
    "rm_path = os.path.join (session_path, 'Machine2.if18_x86/rank_00001/Run_00001/Machine')\n",
    "\n",
    "ibr_channels, ibr_units = load_channels (ibr_path)\n",
    "rm_channels, rm_units = load_channels (rm_path)"
   ]
  },
  {
   "cell_type": "markdown",
   "id": "f7fffe4a",
   "metadata": {},
   "source": [
    "Run the next cell for EMTP results import"
   ]
  },
  {
   "cell_type": "code",
   "execution_count": null,
   "id": "96efb699",
   "metadata": {},
   "outputs": [],
   "source": [
    "# set the session_path to match location of your unzipped sample cases\n",
    "session_path = 'c:/temp/i2x/emtp/'\n",
    "ibr_path = os.path.join (session_path, 'Wind2')\n",
    "rm_path = os.path.join (session_path, 'Machine2')\n",
    "\n",
    "ibr_channels, ibr_units = load_channels (ibr_path)\n",
    "rm_channels, rm_units = load_channels (rm_path)"
   ]
  },
  {
   "cell_type": "markdown",
   "id": "5c0c4baf",
   "metadata": {},
   "source": [
    "Run the next series of cells to plot the results"
   ]
  },
  {
   "cell_type": "code",
   "execution_count": null,
   "id": "c6d660df",
   "metadata": {},
   "outputs": [],
   "source": [
    "show_case_plot (ibr_channels, ibr_units, 'IBR')"
   ]
  },
  {
   "cell_type": "code",
   "execution_count": null,
   "id": "6d535c60",
   "metadata": {},
   "outputs": [],
   "source": [
    "show_case_plot (rm_channels, rm_units, 'Machine')"
   ]
  },
  {
   "cell_type": "code",
   "execution_count": null,
   "id": "df2e5e24",
   "metadata": {},
   "outputs": [],
   "source": [
    "show_comparison_plot (ibr=ibr_channels, rm=rm_channels, units=ibr_units)"
   ]
  },
  {
   "cell_type": "code",
   "execution_count": null,
   "id": "47c7a085",
   "metadata": {},
   "outputs": [],
   "source": [
    "show_test_plot (rm_channels, rm_units, rm_path)"
   ]
  },
  {
   "cell_type": "code",
   "execution_count": null,
   "id": "2d541303",
   "metadata": {},
   "outputs": [],
   "source": [
    "show_test_plot (ibr_channels, ibr_units, ibr_path)"
   ]
  }
 ],
 "metadata": {
  "kernelspec": {
   "display_name": "Python 3 (ipykernel)",
   "language": "python",
   "name": "python3"
  },
  "language_info": {
   "codemirror_mode": {
    "name": "ipython",
    "version": 3
   },
   "file_extension": ".py",
   "mimetype": "text/x-python",
   "name": "python",
   "nbconvert_exporter": "python",
   "pygments_lexer": "ipython3",
   "version": "3.11.4"
  }
 },
 "nbformat": 4,
 "nbformat_minor": 5
}
