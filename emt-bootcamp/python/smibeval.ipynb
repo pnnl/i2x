{
 "cells": [
  {
   "cell_type": "markdown",
   "id": "072166a1",
   "metadata": {},
   "source": [
    "Run this cell to define support functions"
   ]
  },
  {
   "cell_type": "code",
   "execution_count": null,
   "id": "7d58f38a",
   "metadata": {},
   "outputs": [],
   "source": [
    "import sys\n",
    "import os\n",
    "import math\n",
    "import numpy as np\n",
    "from comtrade import Comtrade\n",
    "\n",
    "kVLNbase = 230.0 / math.sqrt(3.0)\n",
    "MVAbase = 100.0\n",
    "kAbase = MVAbase / kVLNbase / 3.0\n",
    "\n",
    "# file names used in the test suites\n",
    "flats = ['fsicrv', 'fsicrq0', 'fsicrqp', 'fsicrqn', 'fsicrpf0', 'fsicrpfp', 'fsicrpfn',\n",
    "         'fsminv', 'fsminq0', 'fsminqp', 'fsminqn', 'fsminpf0', 'fsminpfp', 'fsminpfn']\n",
    "\n",
    "uvrts = ['uvq03sag', 'uvq03pg', 'uvq01pg', 'uvq02pg', 'uvq02p', \n",
    "         'uvqp3sag', 'uvqp3pg', 'uvqp1pg', 'uvqp2pg', 'uvqp2p', \n",
    "         'uvqn3sag', 'uvqn3pg', 'uvqn1pg', 'uvqn2pg', 'uvqn2p']\n",
    "\n",
    "ovrts = ['ovq0', 'ovqp', 'ovqn']\n",
    "\n",
    "freqs = ['oficr', 'uficr', 'ofmin', 'ufmin']\n",
    "\n",
    "angles = ['anicr', 'apicr', 'anmin', 'apmin']\n",
    "\n",
    "steps = ['stvref', 'stqref', 'stpfref', 'stpref']\n",
    "\n",
    "ramps = ['rampscr']\n",
    "\n",
    "# test suite definitions: title, files, tmax for each\n",
    "test_suites = {'fs': {'title': 'Weak-grid model initialization tests', 'files': flats, \n",
    "                      'tmax_pscad': 20.0, 'tmax_emtp':20.0, \n",
    "                      'tevents_pscad':[0.0], 'tevents_emtp':[0.0]},\n",
    "               'uv': {'title': 'Weak-grid undervoltage ride-through tests', 'files': uvrts, \n",
    "                      'tmax_pscad': 20.0, 'tmax_emtp':20.0, \n",
    "                      'tevents_pscad':[10.0], 'tevents_emtp':[5.0]},\n",
    "               'ov': {'title': 'Weak-grid overvoltage ride-through tests', 'files': ovrts, \n",
    "                      'tmax_pscad': 20.0, 'tmax_emtp':20.0, \n",
    "                      'tevents_pscad':[10.0], 'tevents_emtp':[5.0]},\n",
    "               'fr': {'title': 'Weak-grid frequency ride-through tests', 'files': freqs, \n",
    "                      'tmax_pscad': 40.0, 'tmax_emtp':40.0, \n",
    "                      'tevents_pscad':[10.0], 'tevents_emtp':[10.0]},\n",
    "               'an': {'title': 'Weak-grid angle ride-through tests', 'files': angles, \n",
    "                      'tmax_pscad': 40.0, 'tmax_emtp':30.0, \n",
    "                      'tevents_pscad':[10.0], 'tevents_emtp':[10.0]},\n",
    "               'sc': {'title': 'Short-circuit ratio ramp-down test', 'files': ramps, \n",
    "                      'tmax_pscad': 45.0, 'tmax_emtp':45.0, \n",
    "                      'tevents_pscad':[10.0], 'tevents_emtp':[10.0]},\n",
    "               'st': {'title': 'Control reference step tests', 'files': steps, \n",
    "                      'tmax_pscad': 50.0, 'tmax_emtp':50.0, \n",
    "                      'tevents_pscad':[10.0], 'tevents_emtp':[10.0]}}\n",
    "\n",
    "def scale_factor(lbl, bPSCAD):\n",
    "  if 'P' in lbl:\n",
    "    return 1.0 / MVAbase\n",
    "  elif 'Q' in lbl:\n",
    "    return 1.0 / MVAbase\n",
    "  elif 'I' in lbl:\n",
    "    return 1.0 / kAbase / math.sqrt(2.0)\n",
    "  elif 'Vrms' in lbl:\n",
    "    if not bPSCAD:\n",
    "      return 1.0 / kVLNbase\n",
    "  elif 'V' in lbl:\n",
    "    return 1.0 / kVLNbase / math.sqrt(2.0)\n",
    "  return 1.0\n",
    "\n",
    "# load all the analog channels from each case into dictionaries of numpy arrays. Expecting:\n",
    "#   1..3 = Va..Vc\n",
    "#   4..6 = Ia..Ic\n",
    "#   7 = Vrms\n",
    "#   8 = P\n",
    "#   9 = Q\n",
    "#   10 = F\n",
    "def load_channels(comtrade_path, bDebug=False, bAll=True, choices=None):\n",
    "  if bDebug:\n",
    "    print (comtrade_path)\n",
    "  rec = Comtrade ()\n",
    "  rec.load (comtrade_path + '.cfg', comtrade_path + '.dat')\n",
    "  t = np.array(rec.time)\n",
    "\n",
    "  channels = {}\n",
    "  units = {}\n",
    "  channels['t'] = t\n",
    "  if bDebug:\n",
    "    print ('{:d} channels ({:d} points) found in {:s}.cfg'.format (rec.analog_count, len(t), comtrade_path))\n",
    "  for i in range(rec.analog_count):\n",
    "    lbl = rec.analog_channel_ids[i].strip()\n",
    "    # for PSCAD naming convention, truncate the channel at first colon, if one exists\n",
    "    idx = lbl.find(':')\n",
    "    if idx >= 0:\n",
    "      lbl = lbl[0:idx]\n",
    "    if bAll or lbl in choices:\n",
    "      ch_config = rec.cfg.analog_channels[i]\n",
    "      scale = 1.0\n",
    "      if ch_config.pors.upper() == 'P':\n",
    "        scale = ch_config.secondary / ch_config.primary\n",
    "      elif ch_config.pors.upper() == 'S':\n",
    "        scale = ch_config.primary / ch_config.secondary\n",
    "      if bDebug:\n",
    "        print ('  \"{:s}\" [{:s}] scale={:.6e}'.format(lbl, ch_config.uu, scale))\n",
    "      channels[lbl] = scale * np.array (rec.analog[i])\n",
    "      units[lbl] = ch_config.uu\n",
    "    elif bDebug:\n",
    "      print ('  skipping \"{:s}\"'.format(lbl))\n",
    "\n",
    "  return channels, units"
   ]
  },
  {
   "cell_type": "markdown",
   "id": "b52e8721",
   "metadata": {},
   "source": [
    "Run this next cell to enable [Matplotlib](https://matplotlib.org/)"
   ]
  },
  {
   "cell_type": "code",
   "execution_count": null,
   "id": "7721e5f5",
   "metadata": {},
   "outputs": [],
   "source": [
    "import matplotlib.pyplot as plt\n",
    "\n",
    "def setup_plot_options():\n",
    "  plt.rcParams['savefig.directory'] = os.getcwd()\n",
    "  lsize = 6\n",
    "  plt.rc('font', family='serif')\n",
    "  plt.rc('xtick', labelsize=lsize)\n",
    "  plt.rc('ytick', labelsize=lsize)\n",
    "  plt.rc('axes', labelsize=lsize)\n",
    "  plt.rc('legend', fontsize=4)\n",
    "#  clr = plt.get_cmap('tab20c').colors\n",
    "#  plt.axes().set_prop_cycle('color', clr)\n",
    "\n",
    "def show_comparison_plot (chd, unitd, title, bPSCAD, tmax, PNGName=None):\n",
    "  fig, ax = plt.subplots(4, 1, sharex = 'col', figsize=(7,7), constrained_layout=True)\n",
    "  fig.suptitle (title)\n",
    "\n",
    "  channel_labels = ['Vrms', 'P', 'Q', 'F']\n",
    "  y_labels = ['Vrms [pu]', 'P [pu]', 'Q [pu]', 'F [Hz]']\n",
    "  x_ticks = np.linspace (0.0, tmax, 11)\n",
    "\n",
    "  for key in chd:\n",
    "    ch = chd[key]\n",
    "    for i in range(4):\n",
    "      lbl = channel_labels[i]\n",
    "      ax[i].plot (ch['t'], scale_factor(lbl, bPSCAD) * ch[lbl], label=key)\n",
    "\n",
    "  bLegend = True\n",
    "  if len(chd) < 2:\n",
    "    bLegend = False\n",
    "  for i in range(4):\n",
    "    ax[i].set_ylabel (y_labels[i])\n",
    "    ax[i].set_xticks (x_ticks)\n",
    "    ax[i].set_xlim (x_ticks[0], x_ticks[-1])\n",
    "    ax[i].grid()\n",
    "    if bLegend:\n",
    "      ax[i].legend(loc='lower right')\n",
    "  ax[3].set_xlabel ('Time [s]')\n",
    "#  if not bPSCAD:\n",
    "#    ax[0].set_ylim (0.85, 1.1)\n",
    "\n",
    "  if PNGName is not None:\n",
    "    plt.savefig(PNGName)\n",
    "  plt.show()\n",
    "\n",
    "%matplotlib widget\n",
    "\n",
    "setup_plot_options()"
   ]
  },
  {
   "cell_type": "markdown",
   "id": "cbae21ec",
   "metadata": {},
   "source": [
    "This support function processes and plots one test suite: fs, uv, ov, fr, an, st, sc"
   ]
  },
  {
   "cell_type": "code",
   "execution_count": null,
   "id": "5e211389",
   "metadata": {},
   "outputs": [],
   "source": [
    "def plot_test_suite (suite, session_path, case_tag, bPSCAD, PNGName):\n",
    "  test_title = suite['title']\n",
    "  test_files = suite['files']\n",
    "  if bPSCAD:\n",
    "    test_tmax = suite['tmax_pscad']\n",
    "  else:\n",
    "    test_tmax = suite['tmax_emtp']\n",
    "  channels = {}\n",
    "  units = {}\n",
    "  for tag in test_files:\n",
    "    tag_path = os.path.join (session_path, '{:s}'.format (tag))\n",
    "    channels[tag], units[tag] = load_channels (tag_path)\n",
    "    if bPSCAD: # cosmetic initialization of the frequency plot\n",
    "      channels[tag]['F'][0] = 60.0\n",
    "  title = '{:s}: {:s}'.format(test_title, case_tag)\n",
    "  show_comparison_plot (channels, units, title, bPSCAD, test_tmax, PNGName)\n"
   ]
  },
  {
   "cell_type": "markdown",
   "id": "ffa4a2c2-5f22-4ced-9d99-a078c06c3785",
   "metadata": {},
   "source": [
    "These support functions calculate the metrics"
   ]
  },
  {
   "cell_type": "code",
   "execution_count": null,
   "id": "dfa58223-d8fd-4b6a-b3d6-1435b9348b16",
   "metadata": {},
   "outputs": [],
   "source": [
    "def window_metrics (t, v, scale=1.0, t_fault=1.0, t_start=None, t_end=None):\n",
    "  if t_start is None:\n",
    "    t_start = t[0]\n",
    "  if t_end is None:\n",
    "    t_end = t[-1]\n",
    "  n1=min(np.argwhere(t>=t_start))[0]\n",
    "  n2=max(np.argwhere(t<=t_end))[0]\n",
    "  y = scale*v[n1:n2]\n",
    "  x = t[n1:n2]\n",
    "  idx_start = 0\n",
    "  if x[0] < t_fault:\n",
    "    idx_start = max(np.argwhere(t<t_fault))[0]\n",
    "  y_init = y[idx_start]\n",
    "  x_init = x[idx_start]\n",
    "  y_final = y[-1]\n",
    "  x_final = x[-1]\n",
    "  y_mean = np.mean(y)\n",
    "  y_max = np.max(y)\n",
    "  x_max = x[np.argmax(y)]\n",
    "  y_min = np.min(y)\n",
    "  x_min = x[np.argmin(y)]\n",
    "\n",
    "  # look for the 10% and 90% points\n",
    "  pu_reaction = 0.1\n",
    "  pu_rise = 0.9\n",
    "  sb_pu = 0.05\n",
    "\n",
    "  y_reaction = y_init + pu_reaction * (y_final - y_init)\n",
    "  reverse = False\n",
    "  if y_final < y_init:\n",
    "    reverse = True\n",
    "    y_peak = y_min\n",
    "    x_peak = x_min\n",
    "    idx_reaction = min(np.argwhere(y<=y_reaction))[0]\n",
    "    y_rise = y_init + pu_rise * (y_min - y_init)\n",
    "    idx_rise = min(np.argwhere(y<=y_rise))[0]\n",
    "  else:\n",
    "    y_peak = y_max\n",
    "    x_peak = x_max\n",
    "    idx_reaction = min(np.argwhere(y>=y_reaction))[0]\n",
    "    y_rise = y_init + pu_rise * (y_max - y_init)\n",
    "    idx_rise = min(np.argwhere(y>=y_rise))[0]\n",
    "  x_reaction = x[idx_reaction]\n",
    "  x_rise = x[idx_rise]\n",
    "\n",
    "  # some figures of merit\n",
    "  x_fault = t_fault # should be known from the EMT simulation\n",
    "  y_fault = y_init\n",
    "\n",
    "  # wavefront and damping measurements\n",
    "  reaction_time = x_reaction - x_fault\n",
    "  rise_time = x_rise - x_reaction\n",
    "  denom = abs(y_final - y_init)\n",
    "  if denom > 0.0:\n",
    "    overshoot = abs(y_peak - y_final) / denom\n",
    "    ln_overshoot = math.log(overshoot)\n",
    "    damping_by_overshoot = -ln_overshoot / math.sqrt (math.pi*math.pi + ln_overshoot*ln_overshoot)\n",
    "  else:\n",
    "    overshoot = 0.0\n",
    "    damping_by_overshoot = 1.0\n",
    "\n",
    "  # settling band measurements\n",
    "  sb_pu *= abs(y_final)\n",
    "  sb1 = y_final + sb_pu\n",
    "  sb2 = y_final - sb_pu\n",
    "  arg1 = np.argwhere(y>=sb1)\n",
    "  arg2 = np.argwhere(y<=sb2)\n",
    "  if len(arg1) > 0 and len(arg2) > 0:\n",
    "    nb1 = max(arg1)[0]\n",
    "    nb2 = max(arg2)[0]\n",
    "    if nb1 > nb2:\n",
    "      y_settle = y[nb1]\n",
    "      x_settle = x[nb1]\n",
    "    else:\n",
    "      y_settle = y[nb2]\n",
    "      x_settle = x[nb2]\n",
    "    settling_time = x_settle - x_reaction\n",
    "  else:\n",
    "    settling_time = 0.0\n",
    "    \n",
    "  d = {'Min':{'x':x_min, 'y':y_min},\n",
    "       'Max':{'x':x_max, 'y':y_max},\n",
    "       'Init':{'x':x_init, 'y':y_init},\n",
    "       'Final':{'x':x_final, 'y':y_final},\n",
    "       'Peak':{'x':x_peak, 'y':y_peak},\n",
    "       'Start':{'x':x_reaction, 'y':y_reaction},\n",
    "       'Rise':{'x':x_rise, 'y':y_rise},\n",
    "       'Mean': y_mean, 'Reverse': reverse,\n",
    "       'ReactionTime': reaction_time, 'RiseTime': rise_time, 'SettlingTime': settling_time,\n",
    "       'Overshoot': overshoot, 'OvershootDamping': damping_by_overshoot}\n",
    "  return d\n",
    "\n",
    "def process_metrics (suite, session_path, case_tag, bPSCAD):\n",
    "  if bPSCAD:\n",
    "    test_tmax = suite['tmax_pscad']\n",
    "    t_faults = suite['tevents_pscad']\n",
    "  else:\n",
    "    test_tmax = suite['tmax_emtp']\n",
    "    t_faults = suite['tevents_emtp']\n",
    "  title = '{:s}, {:s}, event time={:.2f}s'.format(suite['title'], case_tag, t_faults[0])\n",
    "  test_files = suite['files']\n",
    "  channels = {}\n",
    "  units = {}\n",
    "  channel_labels = ['Vrms', 'P', 'Q', 'F']\n",
    "  metric_labels = ['Vrms', 'P', 'Q']\n",
    "  print (title)\n",
    "  print ('Case-Qty      N  Initial    Final      Min      Max     Peak    Treac    Trise  Tsettle OverShot  Damping')\n",
    "  for tag in test_files:\n",
    "    tag_path = os.path.join (session_path, '{:s}'.format (tag))\n",
    "    channels[tag], units[tag] = load_channels (tag_path, bAll=False, choices=channel_labels)\n",
    "    if bPSCAD and 'F' in channels[tag]: # cosmetic initialization of the frequency plot\n",
    "      channels[tag]['F'][0] = 60.0\n",
    "    for ch in metric_labels:\n",
    "      mnemonic = '{:s}-{:s}'.format (tag, ch)\n",
    "      d = window_metrics (t=channels[tag]['t'], v=channels[tag][ch], scale=scale_factor (ch, bPSCAD), t_fault=t_faults[0])\n",
    "      print ('{:13s} {:1s} {:8.4f} {:8.4f} {:8.4f} {:8.4f} {:8.4f} {:8.5f} {:8.5f} {:8.5f} {:8.5f} {:8.5f}'.format (\n",
    "          mnemonic, str(d['Reverse'])[0], d['Init']['y'], d['Final']['y'], d['Min']['y'], d['Max']['y'], d['Peak']['y'],\n",
    "          d['ReactionTime'], d['RiseTime'], d['SettlingTime'], d['Overshoot'], d['OvershootDamping']))\n",
    "  show_comparison_plot (channels, units, title, bPSCAD, test_tmax, PNGName=None)"
   ]
  },
  {
   "cell_type": "markdown",
   "id": "f8e9e760",
   "metadata": {},
   "source": [
    "Run the next cell to configure PSCAD results import"
   ]
  },
  {
   "cell_type": "code",
   "execution_count": null,
   "id": "74d56a55",
   "metadata": {
    "scrolled": true
   },
   "outputs": [],
   "source": [
    "# set the session_path to match location of your unzipped sample cases\n",
    "bPSCAD = True\n",
    "case_tag = 'Solar'                                                     \n",
    "session_path = 'd:/data/pscad'\n",
    "PNGName = None"
   ]
  },
  {
   "cell_type": "markdown",
   "id": "f7fffe4a",
   "metadata": {},
   "source": [
    "Run the next cell to configure EMTP import"
   ]
  },
  {
   "cell_type": "code",
   "execution_count": null,
   "id": "96efb699",
   "metadata": {
    "scrolled": true
   },
   "outputs": [],
   "source": [
    "# set the session_path to match location of your unzipped sample cases\n",
    "bPSCAD = False\n",
    "session_path = 'd:/data/emtp'\n",
    "case_tag = 'Wind'\n",
    "PNGName = None"
   ]
  },
  {
   "cell_type": "markdown",
   "id": "5c0c4baf",
   "metadata": {},
   "source": [
    "Plot and process the model initialization tests (fs)"
   ]
  },
  {
   "cell_type": "code",
   "execution_count": null,
   "id": "df2e5e24",
   "metadata": {},
   "outputs": [],
   "source": [
    "process_metrics (test_suites['fs'], session_path, case_tag, bPSCAD)"
   ]
  },
  {
   "cell_type": "markdown",
   "id": "941c6d57",
   "metadata": {},
   "source": [
    "Plot and process the undervoltage ride-through tests (uv)"
   ]
  },
  {
   "cell_type": "code",
   "execution_count": null,
   "id": "f05ddf03",
   "metadata": {},
   "outputs": [],
   "source": [
    "process_metrics (test_suites['uv'], session_path, case_tag, bPSCAD)"
   ]
  },
  {
   "cell_type": "markdown",
   "id": "94350ac5",
   "metadata": {},
   "source": [
    "Plot and process the overvoltage ride-through tests (ov)"
   ]
  },
  {
   "cell_type": "code",
   "execution_count": null,
   "id": "72f7fe84",
   "metadata": {},
   "outputs": [],
   "source": [
    "process_metrics (test_suites['ov'], session_path, case_tag, bPSCAD)"
   ]
  },
  {
   "cell_type": "markdown",
   "id": "d2786413",
   "metadata": {},
   "source": [
    "Plot and process the frequency ride-through tests (fr)"
   ]
  },
  {
   "cell_type": "code",
   "execution_count": null,
   "id": "360b2abe",
   "metadata": {},
   "outputs": [],
   "source": [
    "process_metrics (test_suites['fr'], session_path, case_tag, bPSCAD)"
   ]
  },
  {
   "cell_type": "markdown",
   "id": "b3e177d9",
   "metadata": {},
   "source": [
    "Plot and process the angle ride-through tests (an)"
   ]
  },
  {
   "cell_type": "code",
   "execution_count": null,
   "id": "5e4d616e",
   "metadata": {},
   "outputs": [],
   "source": [
    "process_metrics (test_suites['an'], session_path, case_tag, bPSCAD)"
   ]
  },
  {
   "cell_type": "markdown",
   "id": "d082c05d",
   "metadata": {},
   "source": [
    "Plot and process the control reference step tests (st)"
   ]
  },
  {
   "cell_type": "code",
   "execution_count": null,
   "id": "e5b99c89",
   "metadata": {},
   "outputs": [],
   "source": [
    "process_metrics (test_suites['st'], session_path, case_tag, bPSCAD)"
   ]
  },
  {
   "cell_type": "markdown",
   "id": "40440d08-d780-4295-ad48-45a0eadd88fe",
   "metadata": {},
   "source": [
    "Plot and process the short-circuit ratio ramp-down test (sc)"
   ]
  },
  {
   "cell_type": "code",
   "execution_count": null,
   "id": "b256c93b-cfd6-42e9-ab34-95c57fb04ff5",
   "metadata": {},
   "outputs": [],
   "source": [
    "process_metrics (test_suites['sc'], session_path, case_tag, bPSCAD)"
   ]
  },
  {
   "cell_type": "code",
   "execution_count": null,
   "id": "611bfbb9-2ec7-47a5-a57c-b66cfcfe3f27",
   "metadata": {},
   "outputs": [],
   "source": []
  }
 ],
 "metadata": {
  "kernelspec": {
   "display_name": "Python 3 (ipykernel)",
   "language": "python",
   "name": "python3"
  },
  "language_info": {
   "codemirror_mode": {
    "name": "ipython",
    "version": 3
   },
   "file_extension": ".py",
   "mimetype": "text/x-python",
   "name": "python",
   "nbconvert_exporter": "python",
   "pygments_lexer": "ipython3",
   "version": "3.11.4"
  }
 },
 "nbformat": 4,
 "nbformat_minor": 5
}
