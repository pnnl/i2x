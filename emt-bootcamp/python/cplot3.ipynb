{
 "cells": [
  {
   "cell_type": "markdown",
   "id": "072166a1",
   "metadata": {},
   "source": [
    "Run this cell to define support functions"
   ]
  },
  {
   "cell_type": "code",
   "execution_count": null,
   "id": "7d58f38a",
   "metadata": {},
   "outputs": [],
   "source": [
    "import sys\n",
    "import os\n",
    "import math\n",
    "import numpy as np\n",
    "from comtrade import Comtrade\n",
    "\n",
    "kVLNbase = 230.0 / math.sqrt(3.0)\n",
    "MVAbase = 100.0\n",
    "kAbase = MVAbase / kVLNbase / 3.0\n",
    "\n",
    "def scale_factor(lbl):\n",
    "  if 'P' in lbl:\n",
    "    return 1.0 / MVAbase\n",
    "  elif 'Q' in lbl:\n",
    "    return 1.0 / MVAbase\n",
    "  elif 'I' in lbl:\n",
    "    return 1.0 / kAbase / math.sqrt(2.0)\n",
    "  elif 'Vrms' in lbl:\n",
    "    return 1.0\n",
    "  elif 'V' in lbl:\n",
    "    return 1.0 / kVLNbase / math.sqrt(2.0)\n",
    "  return 1.0\n",
    "\n",
    "# load all the analog channels from each case into dictionaries of numpy arrays. Expecting:\n",
    "#   1..3 = Va..Vc\n",
    "#   4..6 = Ia..Ic\n",
    "#   7 = Vrms\n",
    "#   8 = P\n",
    "#   9 = Q\n",
    "#   10 = F\n",
    "def load_channels(comtrade_path):\n",
    "  rec = Comtrade ()\n",
    "  rec.load (comtrade_path + '.cfg', comtrade_path + '.dat')\n",
    "  t = np.array(rec.time)\n",
    "\n",
    "  channels = {}\n",
    "  units = {}\n",
    "  channels['t'] = t\n",
    "  print ('{:d} channels ({:d} points) read from {:s}.cfg:'.format (rec.analog_count, len(t), comtrade_path))\n",
    "  for i in range(rec.analog_count):\n",
    "    lbl = rec.analog_channel_ids[i].strip()\n",
    "    # for PSCAD naming convention, truncate the channel at first colon, if one exists\n",
    "    idx = lbl.find(':')\n",
    "    if idx >= 0:\n",
    "      lbl = lbl[0:idx]\n",
    "    ch_config = rec.cfg.analog_channels[i]\n",
    "    scale = 1.0\n",
    "    if ch_config.pors.upper() == 'P':\n",
    "      scale = ch_config.secondary / ch_config.primary\n",
    "    elif ch_config.pors.upper() == 'S':\n",
    "      scale = ch_config.primary / ch_config.secondary\n",
    "    print ('  \"{:s}\" [{:s}] scale={:.6e}'.format(lbl, ch_config.uu, scale))\n",
    "    channels[lbl] = scale * np.array (rec.analog[i])\n",
    "    units[lbl] = ch_config.uu\n",
    "\n",
    "  return channels, units"
   ]
  },
  {
   "cell_type": "markdown",
   "id": "b52e8721",
   "metadata": {},
   "source": [
    "Run this next cell to enable [Matplotlib](https://matplotlib.org/)"
   ]
  },
  {
   "cell_type": "code",
   "execution_count": null,
   "id": "7721e5f5",
   "metadata": {},
   "outputs": [],
   "source": [
    "import matplotlib.pyplot as plt\n",
    "\n",
    "def setup_plot_options():\n",
    "  plt.rcParams['savefig.directory'] = os.getcwd()\n",
    "  lsize = 12\n",
    "  plt.rc('font', family='serif')\n",
    "  plt.rc('xtick', labelsize=lsize)\n",
    "  plt.rc('ytick', labelsize=lsize)\n",
    "  plt.rc('axes', labelsize=lsize)\n",
    "  plt.rc('legend', fontsize=lsize)\n",
    "\n",
    "def show_case_plot(channels, units, case_title):\n",
    "  t = channels['t']\n",
    "  fig, ax = plt.subplots(5, 1, sharex = 'col', figsize=(8,6), constrained_layout=True)\n",
    "  fig.suptitle ('Case: ' + case_title)\n",
    "  for lbl in ['VA', 'VB', 'VC']:\n",
    "    ax[0].plot (t, scale_factor(lbl) * channels[lbl], label=lbl)\n",
    "    ax[0].set_ylabel ('v(t) [pu]')\n",
    "  for lbl in ['IA', 'IB', 'IC']:\n",
    "    ax[1].plot (t, scale_factor(lbl) * channels[lbl], label=lbl)\n",
    "    ax[1].set_ylabel ('i(t) [pu]')\n",
    "  for lbl in ['Vrms']:\n",
    "    ax[2].plot (t, scale_factor(lbl) * channels[lbl], label=lbl)\n",
    "    ax[2].set_ylabel ('V [pu]')\n",
    "  for lbl in ['P', 'Q']:\n",
    "    ax[3].plot (t, scale_factor(lbl) * channels[lbl], label=lbl)\n",
    "    ax[3].set_ylabel ('P, Q [pu]')\n",
    "  for lbl in ['F']:\n",
    "    ax[4].plot (t, scale_factor(lbl) * channels[lbl], label=lbl)\n",
    "    ax[4].set_ylabel ('F [Hz]')\n",
    "  for i in range(5):\n",
    "    ax[i].grid()\n",
    "    ax[i].legend()\n",
    "#    ax[i].set_xlim (t[0], t[-1])\n",
    "    ax[i].set_xlim (0.75, 1.75)\n",
    "  ax[4].set_xlabel ('seconds')\n",
    "  plt.show()\n",
    "#  plt.close()\n",
    "\n",
    "def show_comparison_plot (dm, avm, units):\n",
    "  fig, ax = plt.subplots(4, 1, sharex = 'col', figsize=(8,6), constrained_layout=True)\n",
    "  fig.suptitle ('Comparing Average and Switching Models')\n",
    "\n",
    "  channel_labels = ['Vrms', 'P', 'Q', 'F']\n",
    "  y_labels = ['Vrms [pu]', 'P [pu]', 'Q [pu]', 'F [Hz]']\n",
    "  x_ticks = [0.75, 1.00, 1.25, 1.50, 1.75]\n",
    "\n",
    "  for i in range(4):\n",
    "    lbl = channel_labels[i]\n",
    "    ax[i].set_ylabel (y_labels[i])\n",
    "    ax[i].plot (dm['t'], scale_factor(lbl) * dm[lbl], label='DM')\n",
    "    ax[i].plot (avm['t'], scale_factor(lbl) * avm[lbl], label='AVM')\n",
    "    ax[i].set_xticks (x_ticks)\n",
    "    ax[i].set_xlim (x_ticks[0], x_ticks[-1])\n",
    "    ax[i].grid()\n",
    "    ax[i].legend()\n",
    "  ax[3].set_xlabel ('Time [s]')\n",
    "  plt.show()\n",
    "#  plt.close()\n",
    "\n",
    "%matplotlib widget\n",
    "\n",
    "setup_plot_options()"
   ]
  },
  {
   "cell_type": "markdown",
   "id": "f8e9e760",
   "metadata": {},
   "source": [
    "Run the next cell for PSCAD results import"
   ]
  },
  {
   "cell_type": "code",
   "execution_count": null,
   "id": "74d56a55",
   "metadata": {
    "scrolled": true
   },
   "outputs": [],
   "source": [
    "# set the session_path to match location of your unzipped sample cases\n",
    "session_path = 'c:/temp/i2x/pscad/'\n",
    "dm_path = os.path.join (session_path, 'Solar3dm.if18_x86/rank_00001/Run_00001/DM')\n",
    "avm_path = os.path.join (session_path, 'Solar3avm.if18_x86/rank_00001/Run_00001/AVM')\n",
    "\n",
    "dm_channels, dm_units = load_channels (dm_path)\n",
    "avm_channels, avm_units = load_channels (avm_path)"
   ]
  },
  {
   "cell_type": "markdown",
   "id": "f7fffe4a",
   "metadata": {},
   "source": [
    "Run the next cell for EMTP results import"
   ]
  },
  {
   "cell_type": "code",
   "execution_count": null,
   "id": "96efb699",
   "metadata": {
    "scrolled": true
   },
   "outputs": [],
   "source": [
    "# set the session_path to match location of your unzipped sample cases\n",
    "session_path = 'c:/temp/i2x/emtp/'\n",
    "dm_path = os.path.join (session_path, 'dm')\n",
    "avm_path = os.path.join (session_path, 'avm')\n",
    "\n",
    "dm_channels, dm_units = load_channels (dm_path)\n",
    "avm_channels, avm_units = load_channels (avm_path)"
   ]
  },
  {
   "cell_type": "markdown",
   "id": "5c0c4baf",
   "metadata": {},
   "source": [
    "Run the next series of cells to plot the results"
   ]
  },
  {
   "cell_type": "code",
   "execution_count": null,
   "id": "c6d660df",
   "metadata": {},
   "outputs": [],
   "source": [
    "show_case_plot (dm_channels, dm_units, 'Switching Model')"
   ]
  },
  {
   "cell_type": "code",
   "execution_count": null,
   "id": "6d535c60",
   "metadata": {},
   "outputs": [],
   "source": [
    "show_case_plot (avm_channels, avm_units, 'Average Model')"
   ]
  },
  {
   "cell_type": "code",
   "execution_count": null,
   "id": "df2e5e24",
   "metadata": {},
   "outputs": [],
   "source": [
    "show_comparison_plot (dm=dm_channels, avm=avm_channels, units=dm_units)"
   ]
  },
  {
   "cell_type": "markdown",
   "id": "63166063",
   "metadata": {},
   "source": [
    "Run the next cell to compare harmonics on a grid current"
   ]
  },
  {
   "cell_type": "code",
   "execution_count": null,
   "id": "aab34e6c",
   "metadata": {
    "scrolled": true
   },
   "outputs": [],
   "source": [
    "from scipy.fft import fft, fftfreq\n",
    "\n",
    "def grid_current_window (ch, lbl, t1, t2):\n",
    "    n1=min(np.argwhere(ch['t']>=t1))[0]\n",
    "    n2=max(np.argwhere(ch['t']<=t2))[0]\n",
    "    t=ch['t'][n1:n2]\n",
    "    i=ch[lbl][n1:n2]\n",
    "    return t, i\n",
    "\n",
    "def get_spectrum (t, y, lbl=None):\n",
    "  N = len(t)\n",
    "  dt = t[1] - t[0]\n",
    "  yf = fft(y)\n",
    "  f = fftfreq(N, dt)[:N//2]\n",
    "  m = np.abs(yf[0:N//2])\n",
    "  # scale fft \"signal processing\" magnitude by 2/N to get \"power system\" magnitude\n",
    "  m *= 2.0/N\n",
    "  if lbl is not None:\n",
    "    print (lbl)\n",
    "    print ('  FFT on {:d} points at dt={:.6f}'.format (N, dt))\n",
    "    m1peak = np.max(m)\n",
    "    m1rms = m1peak / np.sqrt(2.0)\n",
    "    rms = np.sqrt (0.5 * np.mean (np.sum (m*m)))\n",
    "    thd = np.sqrt (rms*rms - m1rms*m1rms) / m1rms\n",
    "    print ('  Fundamental Peak = {:.4f}'.format (m1peak))\n",
    "    print ('  Fundamental RMS =  {:.4f}'.format (m1rms))\n",
    "    print ('  Total RMS =        {:.4f}'.format (rms))\n",
    "    print ('  Total Distortion = {:.4f}%'.format (thd*100.0))\n",
    "  return f, m * 2.0 / N\n",
    "    \n",
    "def fft_plot (t_dm, y_dm, t_avm, y_avm, f_dm, m_dm, f_avm, m_avm, chan_label, bSemiLog=False):\n",
    "  fig, ax = plt.subplots(2, 1, figsize=(8,6), constrained_layout=True)\n",
    "  fig.suptitle ('Harmonic analysis of {:s}'.format (chan_label))\n",
    "  f_ticks = np.linspace (0, 1000, 11)\n",
    "\n",
    "  ax[0].plot (t_dm, y_dm, label='DM')\n",
    "  ax[0].plot (t_avm, y_avm, label='AVM')\n",
    "  ax[0].set_xlabel ('Time [s]')\n",
    "  if bSemiLog:\n",
    "    ax[1].semilogy (f_dm, m_dm, label='DM')\n",
    "    ax[1].semilogy (f_avm, m_avm, label='AVM')\n",
    "  else:\n",
    "    ax[1].plot (f_dm, m_dm, label='DM')\n",
    "    ax[1].plot (f_avm, m_avm, label='AVM')\n",
    "  ax[1].set_xlabel ('Frequency [Hz]')\n",
    "  ax[1].set_xticks (f_ticks)\n",
    "  ax[1].set_xlim (f_ticks[0], f_ticks[-1])\n",
    "  for i in range(2):\n",
    "    ax[i].grid()\n",
    "    ax[i].legend()\n",
    "\n",
    "  plt.show()\n",
    "\n",
    "t_start = 0.5\n",
    "t_end = t_start + 0.10\n",
    "\n",
    "t_dm, i_dm = grid_current_window (dm_channels, 'IA', t_start, t_end)\n",
    "t_avm, i_avm = grid_current_window (avm_channels, 'IA', t_start, t_end)\n",
    "\n",
    "f_dm, m_dm = get_spectrum (t_dm, i_dm, 'Switching Model')\n",
    "f_avm, m_avm = get_spectrum (t_avm, i_avm, 'Average Model')\n",
    "\n",
    "fft_plot (t_dm, i_dm, t_avm, i_avm, f_dm, m_dm, f_avm, m_avm, 'IA', bSemiLog=True)"
   ]
  },
  {
   "cell_type": "code",
   "execution_count": null,
   "id": "2af1d28d",
   "metadata": {},
   "outputs": [],
   "source": []
  }
 ],
 "metadata": {
  "kernelspec": {
   "display_name": "Python 3 (ipykernel)",
   "language": "python",
   "name": "python3"
  },
  "language_info": {
   "codemirror_mode": {
    "name": "ipython",
    "version": 3
   },
   "file_extension": ".py",
   "mimetype": "text/x-python",
   "name": "python",
   "nbconvert_exporter": "python",
   "pygments_lexer": "ipython3",
   "version": "3.11.4"
  }
 },
 "nbformat": 4,
 "nbformat_minor": 5
}
