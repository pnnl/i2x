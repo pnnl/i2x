{
 "cells": [
  {
   "cell_type": "code",
   "execution_count": 1,
   "metadata": {},
   "outputs": [],
   "source": [
    "import warnings\n",
    "warnings.simplefilter(action='ignore', category=FutureWarning)\n",
    "import os\n",
    "if not os.path.isdir(\"vdiff_activity_files\"):\n",
    "    os.mkdir(\"vdiff_activity_files\")\n",
    "from i2x.der_hca import hca, islands as isl, PlotUtils as pltutl\n",
    "import numpy as np"
   ]
  },
  {
   "cell_type": "markdown",
   "metadata": {},
   "source": [
    "# Voltage Violations\n",
    "One of the the violations that shows up fairly regulary with the introduction of VRE is a $\\Delta V$ violation. \n",
    "According to **ADD REFERENCE** a sudden change of voltage may not exceed 3%.\n",
    "In thi exercise we'll be exploring a situation where a $\\Delta V$ violation occurs and different possibilities to address it.\n",
    "\n",
    "## Part 1: Setup\n",
    "First of all, let's set up a problem where this violation shows up.\n",
    "There are many ways to do this, but in this case we'll follow these steps:\n",
    "1. let our simulation add resources until we encounter an instance where the capacity is limited due to a $\\Delta V$ violation (note: this should happen on round 8).\n",
    "2. Re-wind that last step and add the resource _allowing_ for violations"
   ]
  },
  {
   "cell_type": "code",
   "execution_count": null,
   "metadata": {},
   "outputs": [],
   "source": [
    "feeder = hca.HCA(\"./configs/vdiff_activity.json\")\n",
    "feeder.runbase()\n",
    "while True:\n",
    "    feeder.hca_round(\"pv\")\n",
    "    ## get the hosting capacity for the last bus considered, if zero, then likely capacity was limited\n",
    "    hc, cnt = feeder.get_hc(\"pv\", feeder.visited_buses[-1], feeder.cnt)\n",
    "    if (hc[\"kw\"] == 0) and (\"voltage_vdiff\" in feeder.metrics.last_violation_list):\n",
    "        ## there are violations and they are of the kind we are interested in\n",
    "        break\n",
    "    else:\n",
    "        ## save for later re-wind\n",
    "        feeder.save(\"./vdiff_activity_files/vdiff_activity_setup.pkl\")"
   ]
  },
  {
   "cell_type": "markdown",
   "metadata": {},
   "source": [
    "We saved the state of the system following each addition _except_ the one that caused the violation we are interested in.\n",
    "To re-wind, we simply reload the saved file `pkl` file.\n",
    "\n",
    "> **Technical Sidenotes** <br>\n",
    "> * [pickle](https://docs.python.org/3/library/pickle.html) is just a binary format to save python data.\n",
    "> * To reload we need to pass the `reload=True` flag to the object initialization.\n",
    "> * It's also useful to pass `reload_filemode=\"a\"`, which just means that the log we're saving to will be appended rather than overwritten."
   ]
  },
  {
   "cell_type": "code",
   "execution_count": null,
   "metadata": {},
   "outputs": [],
   "source": [
    "feeder = hca.HCA(\"./vdiff_activity_files/vdiff_activity_setup.pkl\", reload=True, reload_filemode=\"a\", logger_heading=\"\\n*****Re-loading pre-vdiff limitation******\\n\")\n",
    "feeder.hca_round(\"pv\", allow_violations=True) #re-run allowing for violations\n",
    "feeder.save(\"./vdiff_activity_files/vdiff_activity_setup_final.pkl\") #save again for later intialization"
   ]
  },
  {
   "cell_type": "markdown",
   "metadata": {},
   "source": [
    "## Part 2: Analyze\n",
    "Before we start changing too many things, let's just see where we are right now."
   ]
  },
  {
   "cell_type": "code",
   "execution_count": null,
   "metadata": {},
   "outputs": [],
   "source": [
    "pltutl.vdiff_plot(feeder, \"./vdiff_activity_files/vdiff_activity_part2\", \n",
    "                  include_plotlyjs='cdn', auto_open=True)"
   ]
  },
  {
   "cell_type": "markdown",
   "metadata": {},
   "source": [
    "Looking at the voltage difference plots we see that 4 buses are violating the metric: `bus_1110`, `bus_1111`, `bus_1112` (where the unit is located) and `bus_1113`.\n",
    "\n",
    "![](./figs/vdiff_violation.png) ![](./figs/vdiff_violation_feeder.png)\n",
    "\n",
    "It is clear from the figures that the sudden changes in output from the new unit `pv_bus_1112_cnt8`, due to the cloudy day profile we're using is responsible for a local, sudden drops in voltage.\n",
    "\n",
    "## Part 3: Possible Remedies\n",
    "Now that we've identified and isolated the problem, we can begin to investigate solutions.\n",
    "\n",
    "> **Recall**\n",
    "> The purpose of this exercise is to show HCA and Screening tools can be used to study the interconnection process.\n",
    "> The list of possible solutions here is not intended to be complete.\n",
    "\n",
    "### Conductor upgrades\n",
    "The logic behind conductor upgrades is that they lead to a tighter electrical connection between location with issues and the stronger feeder source (substation).\n",
    "We first look for the longest path between the source bus and the buses where the $Delta V$ requirement is violated.\n",
    "We then begin to work up this path (towards the source), upgrading the conductor.\n",
    "After each upgrade we perform two kinds of tests:\n",
    "1. Are the violations gone?\n",
    "2. Is there any hosting capacity?\n"
   ]
  },
  {
   "cell_type": "code",
   "execution_count": null,
   "metadata": {},
   "outputs": [],
   "source": [
    "#########################################################################\n",
    "####### these are some functions to get the path and perform the upgrades\n",
    "#########################################################################\n",
    "def get_upgrade_path(feeder:hca.HCA):\n",
    "    \"\"\"get the path from the furthest location from the source bus where\n",
    "    a voltage difference problem occurs, to the source bus\n",
    "    \"\"\"\n",
    "    ### collect locations where voltage difference is violated\n",
    "    vdiff_buses = list(feeder.metrics.get_vdiff_locations()[\"v\"].keys())\n",
    "    sources = []\n",
    "    upgrade_paths = []\n",
    "    path_lengths = []\n",
    "    ### for each location with a violation, find the bath to the source bus\n",
    "    for b in vdiff_buses:\n",
    "        nearest_source, path2source = isl.get_nearest_source(feeder.G.to_undirected(), b)\n",
    "        sources.append(nearest_source)\n",
    "        upgrade_paths.append(path2source)\n",
    "        path_lengths.append(len(path2source))\n",
    "    ### select the maximum distance to the source bus.\n",
    "    idx = np.argmax(path_lengths)\n",
    "    return upgrade_paths[idx]\n",
    "\n",
    "def upgrade_until_no_violation(feeder:hca.HCA, upgrade_path:list):\n",
    "    \"\"\"Iterate over the path to the source and upgrade the conductor \n",
    "    until no violations\n",
    "    \"\"\"\n",
    "    for u,v in zip(upgrade_path[1:], upgrade_path[:-1]):\n",
    "        eclass = feeder.G.edges[u,v][\"eclass\"]\n",
    "        ename = feeder.G.edges[u,v][\"ename\"]\n",
    "        if eclass.lower() == \"line\":\n",
    "            feeder.upgrade_line(ename)\n",
    "        \n",
    "        ## run dss\n",
    "        feeder.reset_dss(clear_changes=False)\n",
    "        feeder.rundss()\n",
    "        if not feeder.lastres[\"converged\"]:\n",
    "            raise ValueError(\"Open DSS did not converge\")\n",
    "        \n",
    "        feeder.metrics.load_res(feeder.lastres)\n",
    "        feeder.metrics.calc_metrics()\n",
    "        \n",
    "        ## check if there are any violations\n",
    "        if feeder.metrics.violation_count == 0:\n",
    "            break\n",
    "\n",
    "def upgrade_until_some_hc(feeder:hca.HCA, upgrade_path:list):\n",
    "    \"\"\"Iterate over the path to the source and upgrade the conductor \n",
    "    until the hosting capacity at the last visited bus is non-zero\n",
    "    (implies also no violations)\n",
    "    \"\"\"\n",
    "    for u,v in zip(upgrade_path[1:], upgrade_path[:-1]):\n",
    "        eclass = feeder.G.edges[u,v][\"eclass\"]\n",
    "        ename = feeder.G.edges[u,v][\"ename\"]\n",
    "        if eclass.lower() == \"line\":\n",
    "            feeder.upgrade_line(ename)\n",
    "        \n",
    "        ## run dss\n",
    "        feeder.reset_dss(clear_changes=False)\n",
    "        feeder.rundss()\n",
    "        if not feeder.lastres[\"converged\"]:\n",
    "            raise ValueError(\"Open DSS did not converge\")\n",
    "        \n",
    "        feeder.hca_round(\"pv\", bus=feeder.visited_buses[-1], recalculate=True)\n",
    "        hc, cnt = feeder.get_hc(\"pv\", feeder.visited_buses[-1], feeder.cnt)\n",
    "        \n",
    "        ## check if hosting capacity is non-zero\n",
    "        if hc[\"kw\"] > 0:\n",
    "            break"
   ]
  },
  {
   "cell_type": "markdown",
   "metadata": {},
   "source": [
    "#### Step 1: Get the path towards the source"
   ]
  },
  {
   "cell_type": "code",
   "execution_count": null,
   "metadata": {},
   "outputs": [],
   "source": [
    "feeder = hca.HCA(\"./vdiff_activity_files/vdiff_activity_setup_final.pkl\", \n",
    "                 reload=True, reload_filemode=\"a\", \n",
    "                 logger_heading=\"\\n*****Re-loading post-vdiff violation******\\n\")\n",
    "feeder.metrics.load_res(feeder.lastres)\n",
    "feeder.metrics.calc_metrics()\n",
    "upgrade_path = get_upgrade_path(feeder)\n",
    "feeder.logger.info(f\"Furthest violation from substation on bus {upgrade_path[0]}\")"
   ]
  },
  {
   "cell_type": "markdown",
   "metadata": {},
   "source": [
    "#### Step 2a: Perform upgrades until no mo violations"
   ]
  },
  {
   "cell_type": "code",
   "execution_count": null,
   "metadata": {},
   "outputs": [],
   "source": [
    "feeder = hca.HCA(\"./vdiff_activity_files/vdiff_activity_setup_final.pkl\", \n",
    "                 reload=True, reload_filemode=\"a\", \n",
    "                 logger_heading=\"\\n*****Re-loading post-vdiff violation******\\n\")\n",
    "upgrade_until_no_violation(feeder, upgrade_path)\n",
    "feeder.logger.info(f\"Vdiff metric post upgrades: {feeder.metrics.vdiff}\")\n",
    "feeder.logger.info(f\"Estimated upgrade cost:\")\n",
    "feeder.logger.info(f\"\\tLines: ${sum(v[feeder.cnt]['cost'] for v in feeder.data['upgrades']['line'].values()):0.2f} | {sum(v[feeder.cnt]['length']*hca.conductor_cost.units2ft(v[feeder.cnt]['length_unit']) for v in feeder.data['upgrades']['line'].values()):0.2f} ft\")\n",
    "feeder.hca_round(\"pv\", bus=feeder.visited_buses[-1], recalculate=True)\n",
    "pltutl.upgrade_plot(feeder, \"./vdiff_activity_files/vdiff_activity_conductor_upgrade1\", include_plotlyjs='cdn', auto_open=True)\n",
    "feeder.save(\"./vdiff_activity_files/vdiff_activity_conductor_upgrade1.pkl\")"
   ]
  },
  {
   "cell_type": "markdown",
   "metadata": {},
   "source": [
    "While this technically worked, there is no capacity on the feeder.\n",
    "Locations around `bus_1112` will similarly not be able to accommodate anything further.\n",
    "> _Extra Exercise_:\n",
    "> Test this statement out! Starting with the results in this state and try to add a resource at a nearby location and see whether any capacity is available.\n",
    "\n",
    "An alternative approach could be to upgrade until the capacity is non-zero.\n",
    "#### Step 2b: Perform upgrades until non-zero hosting capacity"
   ]
  },
  {
   "cell_type": "code",
   "execution_count": null,
   "metadata": {},
   "outputs": [],
   "source": [
    "## reload state just to make sure we're not double-counting anywhere\n",
    "feeder = hca.HCA(\"./vdiff_activity_files/vdiff_activity_setup_final.pkl\", \n",
    "                 reload=True, reload_filemode=\"a\", \n",
    "                 logger_heading=\"\\n*****Re-loading post-vdiff violation******\\n\")\n",
    "upgrade_until_some_hc(feeder, upgrade_path)\n",
    "feeder.logger.info(f\"Vdiff metric post upgrades: {feeder.metrics.vdiff}\")\n",
    "feeder.logger.info(f\"Estimated upgrade cost:\")\n",
    "feeder.logger.info(f\"\\tLines: ${sum(v[feeder.cnt]['cost'] for v in feeder.data['upgrades']['line'].values()):0.2f} | {sum(v[feeder.cnt]['length']*hca.conductor_cost.units2ft(v[feeder.cnt]['length_unit']) for v in feeder.data['upgrades']['line'].values()):0.2f} ft\")\n",
    "pltutl.upgrade_plot(feeder, \"./vdiff_activity_files/vdiff_activity_conductor_upgrade2\", include_plotlyjs='cdn', auto_open=True)\n",
    "feeder.save(\"./vdiff_activity_files/vdiff_activity_conductor_upgrade2.pkl\")"
   ]
  },
  {
   "cell_type": "markdown",
   "metadata": {},
   "source": [
    "### Capacitor\n",
    "Capacitors are frequently used to deal with both reactive power as well as voltage issues.\n",
    "So we try to see whether a capacitor may help.\n",
    "In the cell below we load the change the `bus` and `kvar` values and re-run the cell.\n",
    "The output will show the $\\Delta V$ pre- and post-capacitor additions.\n",
    "After a bit of playing around it should become rather evident that a capacitor is unlikely to help in this situation."
   ]
  },
  {
   "cell_type": "code",
   "execution_count": null,
   "metadata": {},
   "outputs": [],
   "source": [
    "bus = \"bus_1102\"\n",
    "kvar= 1200\n",
    "feeder = hca.HCA(\"./vdiff_activity_files/vdiff_activity_setup_final.pkl\", \n",
    "                 reload=True, reload_filemode=\"a\", \n",
    "                 logger_heading=\"\\n*****Re-loading post-vdiff violation******\\n\")\n",
    "feeder.metrics.load_res(feeder.lastres)\n",
    "feeder.metrics.calc_metrics()\n",
    "feeder.logger.info(f\"Vdiff pre-Capacitor: {feeder.metrics.vdiff:0.2f}%\")\n",
    "feeder.logger.info(f\"Adding {kvar} kVAr capacitor at bus {bus}\")\n",
    "feeder.dss.text(f\"new capacitor.cap_{bus} bus1={bus} phases=3 kvar={kvar} kv=12.47 con=wye\")\n",
    "feeder.rundss()\n",
    "feeder.metrics.load_res(feeder.lastres)\n",
    "feeder.metrics.calc_metrics()\n",
    "feeder.logger.info(f\"Vdiff post-Capacitor: {feeder.metrics.vdiff:0.2f}%\")"
   ]
  },
  {
   "cell_type": "markdown",
   "metadata": {},
   "source": [
    "### Inverter Controls\n",
    "An alternative solution is to activate advanced inverter controls [**CITE 1547**] that enable more control of the POI voltage via reactive as well as possibly real power adjustments.\n",
    "\n",
    "The choices available in this program are:\n",
    "```\n",
    "'CONSTANT_PF', 'VOLT_WATT', 'VOLT_VAR_CATA', 'VOLT_VAR_CATB', 'VOLT_VAR_AVR', 'VOLT_VAR_VOLT_WATT', 'VOLT_VAR_14H'\n",
    "```\n",
    "In the cell below, change the choices to see the different curves."
   ]
  },
  {
   "cell_type": "code",
   "execution_count": null,
   "metadata": {},
   "outputs": [],
   "source": [
    "inverter_choice=\"VOLT_VAR_CATB\"\n",
    "pltutl.inverter_control_plot(inverter_choice)"
   ]
  },
  {
   "cell_type": "markdown",
   "metadata": {},
   "source": [
    "To see the impact we'll re-run the simulation from the beginning but this with different inverter controls enabled.\n",
    "The exercise begins with `VOLT_VAR_CATB` but feel free to experiment with the different options and see what impact it has.\n",
    "\n",
    "First we'll run exactly the same scenario as before, i.e 8 additions of exactly the same size:"
   ]
  },
  {
   "cell_type": "code",
   "execution_count": null,
   "metadata": {},
   "outputs": [],
   "source": [
    "inverter_choice=\"VOLT_VAR_CATB\"\n",
    "feeder = hca.HCA(\"./configs/vdiff_activity.json\", logger_heading=f\"\\n****** Using Inverter Mode {inverter_choice} ********\\n\")\n",
    "feeder.logger.info(f\"Changing inverter control from {feeder.inputs['invmode']} to {inverter_choice}\")\n",
    "feeder.inputs[\"invmode\"] = inverter_choice\n",
    "feeder.runbase()\n",
    "for i in range(8):\n",
    "    # on the last round allow violations so we have a comparable scenario to before\n",
    "    feeder.hca_round(\"pv\", allow_violations=i==7)\n",
    "pltutl.vdiff_plot(feeder, f\"./vdiff_activity_files/vdiff_activity_{inverter_choice}\", include_plotlyjs='cdn', auto_open=True)\n",
    "feeder.save(f\"./vdiff_activity_files/vdiff_activity_{inverter_choice}.pkl\")"
   ]
  },
  {
   "cell_type": "markdown",
   "metadata": {},
   "source": [
    "### Things to think about\n",
    "* Take a look at the $\\Delta V$ curves. Is the violation as severe as before, or a bit tampered?\n",
    "* How about the number of buses where a $\\Delta V$ violation is recorded?"
   ]
  },
  {
   "cell_type": "markdown",
   "metadata": {},
   "source": [
    "#### Add Conductor upgrade\n",
    "The inverter controls in this case are not enough to avoid any upgrades.\n",
    "To test what happens when we upgrade, we try the same strategies from [before](#conductor-upgrades):\n",
    "1. Upgrade until no violation\n",
    "2. Upgrade until some hc"
   ]
  },
  {
   "cell_type": "code",
   "execution_count": null,
   "metadata": {},
   "outputs": [],
   "source": [
    "feeder = hca.HCA(f\"./vdiff_activity_files/vdiff_activity_{inverter_choice}.pkl\", \n",
    "                 reload=True, reload_filemode=\"a\", \n",
    "                 logger_heading=f\"\\n*****Re-loading post-vdiff violation {inverter_choice}******\\n\")\n",
    "feeder.metrics.load_res(feeder.lastres)\n",
    "feeder.metrics.calc_metrics()\n",
    "upgrade_path = get_upgrade_path(feeder)\n",
    "feeder.logger.info(f\"Furthest violation from substation on bus {upgrade_path[0]}\")"
   ]
  },
  {
   "cell_type": "code",
   "execution_count": null,
   "metadata": {},
   "outputs": [],
   "source": [
    "feeder = hca.HCA(f\"./vdiff_activity_files/vdiff_activity_{inverter_choice}.pkl\", \n",
    "                 reload=True, reload_filemode=\"a\", \n",
    "                 logger_heading=f\"\\n*****Re-loading post-vdiff violation {inverter_choice}******\\n\")\n",
    "upgrade_until_no_violation(feeder, upgrade_path)\n",
    "feeder.logger.info(f\"Vdiff metric post upgrades: {feeder.metrics.vdiff}\")\n",
    "feeder.logger.info(f\"Estimated upgrade cost:\")\n",
    "feeder.logger.info(f\"\\tLines: ${sum(v[feeder.cnt]['cost'] for v in feeder.data['upgrades']['line'].values()):0.2f} | {sum(v[feeder.cnt]['length']*hca.conductor_cost.units2ft(v[feeder.cnt]['length_unit']) for v in feeder.data['upgrades']['line'].values()):0.2f} ft\")\n",
    "feeder.hca_round(\"pv\", bus=feeder.visited_buses[-1], recalculate=True)\n",
    "pltutl.upgrade_plot(feeder, f\"./vdiff_activity_files/vdiff_activity_{inverter_choice}_conductor_upgrade1\", include_plotlyjs='cdn', auto_open=True)\n",
    "feeder.save(f\"./vdiff_activity_files/vdiff_activity_{inverter_choice}_conductor_upgrade1.pkl\")"
   ]
  },
  {
   "cell_type": "code",
   "execution_count": null,
   "metadata": {},
   "outputs": [],
   "source": [
    "## reload state just to make sure we're not double-counting anywhere\n",
    "feeder = hca.HCA(f\"./vdiff_activity_files/vdiff_activity_{inverter_choice}.pkl\", \n",
    "                 reload=True, reload_filemode=\"a\", \n",
    "                 logger_heading=f\"\\n*****Re-loading post-vdiff violation {inverter_choice}******\\n\")\n",
    "upgrade_until_some_hc(feeder, upgrade_path)\n",
    "feeder.logger.info(f\"Vdiff metric post upgrades: {feeder.metrics.vdiff}\")\n",
    "feeder.logger.info(f\"Estimated upgrade cost:\")\n",
    "feeder.logger.info(f\"\\tLines: ${sum(v[feeder.cnt]['cost'] for v in feeder.data[\"upgrades\"]['line'].values()):0.2f} | {sum(v[feeder.cnt]['length']*hca.conductor_cost.units2ft(v[feeder.cnt]['length_unit']) for v in feeder.data[\"upgrades\"]['line'].values()):0.2f} ft\")\n",
    "pltutl.upgrade_plot(feeder, f\"./vdiff_activity_files/vdiff_activity_{inverter_choice}_conductor_upgrade2\", include_plotlyjs='cdn', auto_open=True)\n",
    "feeder.save(f\"./vdiff_activity_files/vdiff_activity_{inverter_choice}_conductor_upgrade2.pkl\")"
   ]
  },
  {
   "cell_type": "markdown",
   "metadata": {},
   "source": [
    "## Part 4: Comparison Between Solutions\n"
   ]
  },
  {
   "cell_type": "code",
   "execution_count": null,
   "metadata": {},
   "outputs": [],
   "source": [
    "def compare_cases(feeder_a, feeder_b):\n",
    "    \"\"\"Compare a constant PF scenario (feeder_a)\n",
    "    To an inverter function scenario (feeder_b)\n",
    "    \"\"\"\n",
    "    ## HC comparison\n",
    "    print(f\"HC improvement when inverter control is set to {inverter_choice}:\")\n",
    "    display((feeder_b.get_data(\"hc\", \"pv\") - feeder_a.get_data(\"hc\", \"pv\")).sum())\n",
    "\n",
    "    ## Cost comparison\n",
    "    bus = feeder_b.visited_buses[-1]\n",
    "    Sij, cnt = feeder_b.get_data(\"Sij\", \"pv\", bus)\n",
    "    cost_a = sum(v[feeder_a.cnt][\"cost\"] for v in feeder_a.data.['upgrades'][\"line\"].values())\n",
    "    cost_b = sum(v[feeder_b.cnt][\"cost\"] for v in feeder_b.data.['upgrades'][\"line\"].values())\n",
    "    print(f\"Upgrade cost savings at bus {bus} to add {Sij['kw']} kW/{Sij['kva']} kVA capacity:\")\n",
    "    print(f\"With out {inverter_choice}: ${cost_a:0.2f}\")\n",
    "    print(f\"with {inverter_choice}: ${cost_b:0.2f}\")\n",
    "    print(f\"Savings: ${cost_a-cost_b:0.2f}\")"
   ]
  },
  {
   "cell_type": "markdown",
   "metadata": {},
   "source": [
    "### Where conductors were upgraded just to avoid violation"
   ]
  },
  {
   "cell_type": "code",
   "execution_count": null,
   "metadata": {},
   "outputs": [],
   "source": [
    "## Load the two feeder\n",
    "feeder_a = hca.HCA(\"./vdiff_activity_files/vdiff_activity_conductor_upgrade1.pkl\", reload=True, reload_filemode=\"a\")\n",
    "feeder_b = hca.HCA(f\"./vdiff_activity_files/vdiff_activity_{inverter_choice}_conductor_upgrade1.pkl\", reload=True, reload_filemode=\"a\")\n",
    "compare_cases(feeder_a, feeder_b)"
   ]
  },
  {
   "cell_type": "markdown",
   "metadata": {},
   "source": [
    "### When concuctors were upgraded until non-zero HC was reached"
   ]
  },
  {
   "cell_type": "code",
   "execution_count": null,
   "metadata": {},
   "outputs": [],
   "source": [
    "## Load the two feeder\n",
    "feeder_a = hca.HCA(\"./vdiff_activity_files/vdiff_activity_conductor_upgrade2.pkl\", reload=True, reload_filemode=\"a\")\n",
    "feeder_b = hca.HCA(f\"./vdiff_activity_files/vdiff_activity_{inverter_choice}_conductor_upgrade2.pkl\", reload=True, reload_filemode=\"a\")\n",
    "compare_cases(feeder_a, feeder_b)"
   ]
  },
  {
   "cell_type": "markdown",
   "metadata": {},
   "source": [
    "## Summary Take-Aways\n",
    "1. As more VRE, resources are added to the system, the maximum $\\Delta V$ of 3% can become binding.\n",
    "2. Possible solutions investigated:\n",
    "    a. Upgrade path towards source to improve system strength and thus reduce voltage volatility\n",
    "    b. Insert capacitor (not very effective)\n",
    "    c. Utilize advance inverter functions\n",
    "3. While advanced inverter functions did not resolve the $\\Delta V$ issue on their own, they:\n",
    "    * Increase the hosting capacity as a whole (~475 kW in the example shown)\n",
    "    * Reduce the necessary upgrades (and thus cost) necessary to alleviate violations (~250k saving). "
   ]
  }
 ],
 "metadata": {
  "kernelspec": {
   "display_name": "Python 3 (ipykernel)",
   "language": "python",
   "name": "python3"
  },
  "language_info": {
   "codemirror_mode": {
    "name": "ipython",
    "version": 3
   },
   "file_extension": ".py",
   "mimetype": "text/x-python",
   "name": "python",
   "nbconvert_exporter": "python",
   "pygments_lexer": "ipython3",
   "version": "3.10.12"
  }
 },
 "nbformat": 4,
 "nbformat_minor": 2
}
