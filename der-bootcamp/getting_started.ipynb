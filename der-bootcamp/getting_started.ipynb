{
 "cells": [
  {
   "cell_type": "code",
   "execution_count": null,
   "metadata": {},
   "outputs": [],
   "source": [
    "# imports (will need to change once hca is incorporated into i2X package)\n",
    "import sys, os\n",
    "if os.path.abspath(\"../hca\") not in sys.path:\n",
    "    sys.path.append(os.path.abspath(\"../hca\"))\n",
    "import hca\n",
    "import i2x.api as i2x"
   ]
  },
  {
   "cell_type": "markdown",
   "metadata": {},
   "source": [
    "# Getting Started\n",
    "This notebook is intended to illustrate the basic interaction with the software package we'll be using in the bootcamp.\n",
    "\n",
    "## Initialization\n",
    "The model is initialized with a configuration file in the [`.json`](https://en.wikipedia.org/wiki/JSON) file format.\n",
    "There are starter configurations provided for each exercise, which can be altered by the user.\n",
    "\n",
    "The default configuration can be queried as shown below.\n",
    "This is also an illustration of the possible parameters."
   ]
  },
  {
   "cell_type": "code",
   "execution_count": null,
   "metadata": {},
   "outputs": [],
   "source": [
    "hca.show_defaults()"
   ]
  },
  {
   "cell_type": "markdown",
   "metadata": {},
   "source": [
    "One of the things the configuration can do is alter the starting point of the feeder by adding, removing, or altering some specific resources.\n",
    "Any configuration is **merged** with the default configuration to create a complete set of inputs. \n",
    "An example is provided in [`config_example.json`](./configs/config_example.json):"
   ]
  },
  {
   "cell_type": "code",
   "execution_count": null,
   "metadata": {},
   "outputs": [],
   "source": [
    "hca.print_config(hca.load_config(\"./configs/config_example.json\"))"
   ]
  },
  {
   "cell_type": "markdown",
   "metadata": {},
   "source": [
    "## Basic API Calls\n",
    "TODO"
   ]
  },
  {
   "cell_type": "code",
   "execution_count": null,
   "metadata": {},
   "outputs": [],
   "source": []
  },
  {
   "cell_type": "markdown",
   "metadata": {},
   "source": [
    "## Saving and Reloading State\n",
    "TODO"
   ]
  },
  {
   "cell_type": "markdown",
   "metadata": {},
   "source": []
  }
 ],
 "metadata": {
  "kernelspec": {
   "display_name": "i2x",
   "language": "python",
   "name": "python3"
  },
  "language_info": {
   "codemirror_mode": {
    "name": "ipython",
    "version": 3
   },
   "file_extension": ".py",
   "mimetype": "text/x-python",
   "name": "python",
   "nbconvert_exporter": "python",
   "pygments_lexer": "ipython3",
   "version": "3.10.12"
  },
  "orig_nbformat": 4
 },
 "nbformat": 4,
 "nbformat_minor": 2
}
