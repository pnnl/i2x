{
 "cells": [
  {
   "cell_type": "code",
   "execution_count": null,
   "metadata": {},
   "outputs": [],
   "source": [
    "import warnings\n",
    "warnings.simplefilter(action='ignore', category=FutureWarning)\n",
    "from i2x.der_hca import hca"
   ]
  },
  {
   "cell_type": "markdown",
   "metadata": {},
   "source": [
    "# Getting Started\n",
    "This notebook is intended to illustrate the basic interaction with the software package we'll be using in the bootcamp.\n",
    "\n",
    "## Initialization\n",
    "The model is initialized with a configuration file in the [`.json`](https://en.wikipedia.org/wiki/JSON) file format.\n",
    "There are starter configurations provided for each exercise, which can be altered by the user.\n",
    "\n",
    "The default configuration can be queried as shown below.\n",
    "This is also an illustration of the possible parameters."
   ]
  },
  {
   "cell_type": "code",
   "execution_count": null,
   "metadata": {},
   "outputs": [],
   "source": [
    "hca.show_defaults()"
   ]
  },
  {
   "cell_type": "markdown",
   "metadata": {},
   "source": [
    "One of the things the configuration can do is alter the starting point of the feeder by adding, removing, or altering some specific resources.\n",
    "Any configuration is **merged** with the default configuration to create a complete set of inputs. \n",
    "An example is provided in [`config_example.json`](./configs/config_example.json):"
   ]
  },
  {
   "cell_type": "code",
   "execution_count": null,
   "metadata": {},
   "outputs": [],
   "source": [
    "hca.print_config(hca.load_config(\"./configs/config_example.json\"))"
   ]
  },
  {
   "cell_type": "markdown",
   "metadata": {},
   "source": [
    "## Basic API Calls\n",
    "To create an HCA feeder object, initialize a power flow solution, and run a single hca run, use the following three commands."
   ]
  },
  {
   "cell_type": "code",
   "execution_count": null,
   "metadata": {},
   "outputs": [],
   "source": [
    "feeder = hca.HCA(\"./configs/config_example.json\")\n",
    "feeder.runbase()\n",
    "feeder.hca_round(\"pv\")"
   ]
  },
  {
   "cell_type": "markdown",
   "metadata": {},
   "source": [
    "## Saving and Reloading State\n",
    "The feeder case can be saved to a [pickle file](https://docs.python.org/3/library/pickle.html) for later reloading.\n",
    "This is quite useful for shifting back to a previous system state, which can be used to undo, or to try a few different scenarios from a given starting point."
   ]
  },
  {
   "cell_type": "code",
   "execution_count": null,
   "metadata": {},
   "outputs": [],
   "source": [
    "feeder.save(\"getting_started_feeder.pkl\")"
   ]
  },
  {
   "cell_type": "markdown",
   "metadata": {},
   "source": [
    "The feeder can be reloaded by passing the path to the pickle file to the object instantiation, and indicating `reload=True`.\n",
    "Because the results might be saved at different stages, the metrics are not automatically transfer.\n",
    "Instead they need to be re-calculated based on the saved result:"
   ]
  },
  {
   "cell_type": "code",
   "execution_count": null,
   "metadata": {},
   "outputs": [],
   "source": [
    "reloaded_feeder = hca.HCA(\"getting_started_feeder.pkl\", reload=True)\n",
    "reloaded_feeder.metrics.load_res(reloaded_feeder.lastres)\n",
    "reloaded_feeder.metrics.calc_metrics()"
   ]
  },
  {
   "cell_type": "markdown",
   "metadata": {},
   "source": [
    "We can see that the loaded feeder and the original one have the same data:"
   ]
  },
  {
   "cell_type": "code",
   "execution_count": null,
   "metadata": {},
   "outputs": [],
   "source": [
    "display(reloaded_feeder.get_hc(\"pv\").join(feeder.get_hc(\"pv\"), lsuffix=\"_re\", rsuffix=\"_org\"))"
   ]
  }
 ],
 "metadata": {
  "kernelspec": {
   "display_name": "i2x",
   "language": "python",
   "name": "python3"
  },
  "language_info": {
   "codemirror_mode": {
    "name": "ipython",
    "version": 3
   },
   "file_extension": ".py",
   "mimetype": "text/x-python",
   "name": "python",
   "nbconvert_exporter": "python",
   "pygments_lexer": "ipython3",
   "version": "3.10.12"
  },
  "orig_nbformat": 4
 },
 "nbformat": 4,
 "nbformat_minor": 2
}
