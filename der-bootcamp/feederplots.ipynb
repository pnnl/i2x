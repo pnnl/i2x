{
 "cells": [
  {
   "cell_type": "code",
   "execution_count": 1,
   "metadata": {},
   "outputs": [],
   "source": [
    "import warnings\n",
    "warnings.simplefilter(action='ignore', category=FutureWarning)\n",
    "from i2x.der_hca import hca, islands as isl, PlotUtils as pltutl\n",
    "import i2x.api as i2x\n",
    "\n",
    "feeder_plotter = pltutl.PlotlyFeeder()"
   ]
  },
  {
   "cell_type": "markdown",
   "metadata": {},
   "source": [
    "# Test Feeder Plots\n",
    "This notebook is used to generate plots of the test feeders in their initial configuration.\n",
    "The plots are saved the the [`feederplots`](./feederplots) folder as interactive `.html` files using the [Plotly](https://plotly.com/python/) library.\n",
    "\n",
    "Two plots are generated for each feeder:\n",
    "1. \"Standard\" plot identifying component types\n",
    "2. \"Component\" plot, identifying the separable components of the feeder used in the [islanding exercise](./island_activity.ipynb)\n",
    "\n",
    "## IEEE 9500 Test feeder\n",
    "The [IEEE 9500 node circuit](https://www.pnnl.gov/main/publications/external/technical_reports/PNNL-33471.pdf) is a proposed large model with 3 radial test feeders that is available on the [PNNL `i2x` repository](https://github.com/pnnl/i2x)."
   ]
  },
  {
   "cell_type": "code",
   "execution_count": 2,
   "metadata": {},
   "outputs": [],
   "source": [
    "G = i2x.load_builtin_graph(\"ieee9500\")\n",
    "isl.get_islands(G, get_output=False)\n",
    "feeder_plotter.plot(G, \"./feederplots/IEEE9500_Feeder.html\", include_plotlyjs='cdn')\n",
    "feeder_plotter.plot(G, \"./feederplots/IEEE9500_Feeder_Comp.html\", comp_plot=True, include_plotlyjs='cdn')"
   ]
  },
  {
   "cell_type": "markdown",
   "metadata": {},
   "source": [
    "## EPRI Test Feeder\n",
    "The `radial` circuit is provided by EPRI and is being used as part of the [IEEE P1729 Working Group on Distribution System Analysis](https://standards.ieee.org/ieee/1729/11171/) as well as in the [i2X project](https://energy.gov/i2x). \n",
    "It is a smaller radial test system that is therefore easier (and less time intensive) to \"play\" with.\n",
    "Data is available both on the [PNNL `i2x` repository](https://github.com/pnnl/i2x), as well as on the [Test Feeder Repository for IEEE P1729](https://github.com/rkerestes/IEEE1729DynamicsTF/tree/main/HCA)"
   ]
  },
  {
   "cell_type": "code",
   "execution_count": 3,
   "metadata": {},
   "outputs": [],
   "source": [
    "G = i2x.load_builtin_graph(\"radial\")\n",
    "isl.get_islands(G, get_output=False)\n",
    "feeder_plotter.plot(G, \"./feederplots/radial_Feeder.html\", include_plotlyjs='cdn')\n",
    "feeder_plotter.plot(G, \"./feederplots/radial_Feeder_Comp.html\", comp_plot=True, include_plotlyjs='cdn')"
   ]
  }
 ],
 "metadata": {
  "kernelspec": {
   "display_name": "i2x",
   "language": "python",
   "name": "python3"
  },
  "language_info": {
   "codemirror_mode": {
    "name": "ipython",
    "version": 3
   },
   "file_extension": ".py",
   "mimetype": "text/x-python",
   "name": "python",
   "nbconvert_exporter": "python",
   "pygments_lexer": "ipython3",
   "version": "3.10.12"
  },
  "orig_nbformat": 4
 },
 "nbformat": 4,
 "nbformat_minor": 2
}
