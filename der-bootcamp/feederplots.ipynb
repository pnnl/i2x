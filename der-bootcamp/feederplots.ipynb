{
 "cells": [
  {
   "cell_type": "code",
   "execution_count": null,
   "metadata": {},
   "outputs": [],
   "source": [
    "# imports (will need to change once hca is incorporated into i2X package)\n",
    "import sys, os\n",
    "if os.path.abspath(\"../hca\") not in sys.path:\n",
    "    sys.path.append(os.path.abspath(\"../hca\"))\n",
    "from i2x.der_hca import hca, islands as isl, PlotUtils as pltutl\n",
    "import i2x.api as i2x\n",
    "\n",
    "feeder_plotter = pltutl.PlotlyFeeder()"
   ]
  },
  {
   "cell_type": "markdown",
   "metadata": {},
   "source": [
    "# Test Feeder Plots\n",
    "This notebook is used to generate plots of the test feeders in their initial configuration.\n",
    "The plots are saved the the [`feederplots`](./feederplots) folder as interactive `.html` files\n",
    "\n",
    "## IEEE 9500 Test feeder\n",
    "The [IEEE 9500 node circuit](https://www.pnnl.gov/main/publications/external/technical_reports/PNNL-33471.pdf) is large test feeder that we can work with."
   ]
  },
  {
   "cell_type": "code",
   "execution_count": null,
   "metadata": {},
   "outputs": [],
   "source": [
    "G = i2x.load_builtin_graph(\"ieee9500\")\n",
    "isl.get_islands(G, get_output=False)\n",
    "feeder_plotter.plot(G, \"./feederplots/IEEE9500_Feeder.html\", include_plotlyjs='cdn')"
   ]
  },
  {
   "cell_type": "markdown",
   "metadata": {},
   "source": [
    "## EPRI Test Feeder\n",
    "The `radial` circuit is provided by EPRI [NEED CITATION] and is a smaller radial test system that is easier to \"play\" with."
   ]
  },
  {
   "cell_type": "code",
   "execution_count": null,
   "metadata": {},
   "outputs": [],
   "source": [
    "G = i2x.load_builtin_graph(\"radial\")\n",
    "isl.get_islands(G, get_output=False)\n",
    "feeder_plotter.plot(G, \"./feederplots/radial_Feeder.html\", include_plotlyjs='cdn')"
   ]
  }
 ],
 "metadata": {
  "kernelspec": {
   "display_name": "i2x",
   "language": "python",
   "name": "python3"
  },
  "language_info": {
   "codemirror_mode": {
    "name": "ipython",
    "version": 3
   },
   "file_extension": ".py",
   "mimetype": "text/x-python",
   "name": "python",
   "nbconvert_exporter": "python",
   "pygments_lexer": "ipython3",
   "version": "3.10.12"
  },
  "orig_nbformat": 4
 },
 "nbformat": 4,
 "nbformat_minor": 2
}
