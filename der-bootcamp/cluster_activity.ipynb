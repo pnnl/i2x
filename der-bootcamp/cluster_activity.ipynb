{
 "cells": [
  {
   "cell_type": "code",
   "execution_count": null,
   "metadata": {},
   "outputs": [],
   "source": [
    "# imports (will need to change once hca is incorporated into i2X package)\n",
    "import sys, os\n",
    "if os.path.abspath(\"../hca\") not in sys.path:\n",
    "    sys.path.append(os.path.abspath(\"../hca\"))\n",
    "import hca\n",
    "import PlotUtils as pltutl\n",
    "import i2x.api as i2x"
   ]
  },
  {
   "cell_type": "markdown",
   "metadata": {},
   "source": [
    "# Sequential vs. Cluster Considerations\n",
    "The purpose of this activity is to highlight the impact of considering interconnection requests sequentially versus in clusters.\n",
    "\n",
    "**Note:**<br>\n",
    "Determining the hosting capacity at multiple locations is non-trivial and in its most complete and general form becomes a highly non-linear optimization problem.\n",
    "Instead of solving this problem, we'll show how the hosting capacity changes depending on the sequencing.\n",
    "We'll then show how batching several changes and considering upgrades _afterwards_ changes the way some of the ensuing costs may be viewed.\n",
    "\n",
    "## Part 1: Order Matters!\n",
    "First, we will consider the addition of several resources and simply shuffle the order in which they are added to the system."
   ]
  },
  {
   "cell_type": "code",
   "execution_count": null,
   "metadata": {},
   "outputs": [],
   "source": [
    "feeder = hca.HCA(\"./configs/cluster_activity.json\")\n",
    "feeder.runbase()"
   ]
  },
  {
   "cell_type": "code",
   "execution_count": null,
   "metadata": {},
   "outputs": [],
   "source": [
    "feeder.hca_round(\"pv\")\n",
    "pltutl.hc_plot(feeder, \"cluster_part1\")"
   ]
  },
  {
   "cell_type": "code",
   "execution_count": null,
   "metadata": {},
   "outputs": [],
   "source": [
    "feeder.metrics.violation_count"
   ]
  },
  {
   "cell_type": "markdown",
   "metadata": {},
   "source": [
    "## Part 2: Upgrades\n",
    "Now that we've seen that binding are triggered differently, let's consider what sort of upgrades may help resolve the problem and enable interconnection. "
   ]
  },
  {
   "cell_type": "code",
   "execution_count": null,
   "metadata": {},
   "outputs": [],
   "source": [
    "# TODO"
   ]
  },
  {
   "cell_type": "markdown",
   "metadata": {},
   "source": [
    "### Part 3: Cost Sharing\n",
    "As seen in the previous two sections, the necessary upgrades are attributed to different resources, depending on sequencing.\n",
    "If we consider all resources as part of a single cluster, the costs can be shared among them.\n",
    "We'll consider two ways here, though clearly there are many options:\n",
    "1. _Capacity Prorated_: the costs are distributed based on the share of total cluster capacity that the resource represents.\n",
    "2. _Sensitivity Based_: For each resource, we'll investigate how a $\\Delta P$ of capacity impacts the magnitude of violation x $\\Delta x$. The sensitity is $\\Delta x/\\Delta P$ and for a unitized $\\Delta P$ gives us the comparative impact this particular resource has. The share of cost will be assessed accordingly."
   ]
  },
  {
   "cell_type": "code",
   "execution_count": null,
   "metadata": {},
   "outputs": [],
   "source": [
    "# TODO"
   ]
  }
 ],
 "metadata": {
  "kernelspec": {
   "display_name": "i2x",
   "language": "python",
   "name": "python3"
  },
  "language_info": {
   "codemirror_mode": {
    "name": "ipython",
    "version": 3
   },
   "file_extension": ".py",
   "mimetype": "text/x-python",
   "name": "python",
   "nbconvert_exporter": "python",
   "pygments_lexer": "ipython3",
   "version": "3.10.12"
  },
  "orig_nbformat": 4
 },
 "nbformat": 4,
 "nbformat_minor": 2
}
