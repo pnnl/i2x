{
 "cells": [
  {
   "cell_type": "code",
   "execution_count": null,
   "metadata": {},
   "outputs": [],
   "source": [
    "import warnings\n",
    "warnings.simplefilter(action='ignore', category=FutureWarning)\n",
    "import os\n",
    "if not os.path.isdir(\"island_activity_files\"):\n",
    "    os.mkdir(\"island_activity_files\")\n",
    "from i2x.der_hca import hca, islands as isl, PlotUtils as pltutl\n",
    "import numpy as np\n",
    "import pandas as pd"
   ]
  },
  {
   "cell_type": "markdown",
   "metadata": {},
   "source": [
    ">**Note about this notebook**<br>\n",
    ">This notebook is a bit different from the others in this bootcamp and requires circling back a few times to the same cell.\n",
    ">It is recommended to read once _through_ the [discussion section](#discussion) to get an overview, before diving into execution.\n",
    " \n",
    "# Islanding Considerations in DER Integration\n",
    "A common sticking point around DER integration on distribution feeders is focused on unintentional islands.\n",
    "The basic concern is that if a fault occurs on the feeder, the breaker at the distribution substation opens to isolate the fault, but the DER on the feeder fails to detect the island and continues to feed the fault, at risk to both equipment and people.\n",
    "\n",
    "The [i2X solution e-Xchange](https://www.energy.gov/eere/i2x/i2x-solution-e-xchanges) _Distribution System Protection with High DER Adoption Levels_ (Grid Engineering Practices & Standards) discussed this topic on May 3rd, 2023; the event was [recorded](https://youtu.be/haGZQfdPp1E) and is recommended viewing material for this exercise.\n",
    "It discusses, among many other things, the use of the [Sandia Screen](https://www.osti.gov/biblio/1039001) and other alternatives to Direct Transfer Trip (DTT), which is an expensive and complex communications based solution.\n",
    "\n",
    "The purpose of this exercise is to show how islanding consideration _could_ be incorporated into hosting capacity analysis, and how the use of time-series based methods can provide new ways of thinking about screening for the problem.\n",
    "This is _not_ intended to be taken as _the_ solution.\n",
    "\n",
    "## Approach to screening for potential islanding\n",
    "The basic concept put forth in the [Sandia Screen](https://www.osti.gov/biblio/1039001) is that for an island to occur there needs to be both a real and reactive power balance at the time of the fault.\n",
    "Building on this idea in the simulations, we monitor the flow on all reclosers in the system (this could be extended to other switching/protection devices if desired).\n",
    "These devices are used to segment the feeder into components that are the potential islands.\n",
    "The net flow in/out of each one of these is monitored via the following set of tests:\n",
    "The following test is then carried out:\n",
    "1. Is the potential island always importing or exporting _real power_?\n",
    "\t* Yes -> test is passed\n",
    "\t* No  -> proceed to step 2\n",
    "2. Is the ratio of minimum output to maximum output above a certain level? Idea here is that the larger this ratio, the more abrupt the transition between importing to exporting and the less likely the load balance condition is met for any meaningful amount of time.\n",
    "\t* Yes -> test is passed\n",
    "\t* No  -> proceed to step 3\n",
    "3. Repeat steps 1 and 2 for _reactive power_\n",
    "\n",
    "## Visualizing components\n",
    "The code to visualize the separable components of the feeders is provided in the auxiliary [feederplots notebook](./feederplots.ipynb).\n",
    "The feeder plots themselves are available in the [feederplots](./feederplots/) folder.\n",
    "The rest of the exercise will occasionally refer to a component number, the figures ending with `Comp.html` can help clarify what is referred to with each component."
   ]
  },
  {
   "cell_type": "markdown",
   "metadata": {},
   "source": [
    "# Utility Functions\n",
    "\n",
    ">**Tip**<br>\n",
    ">Feel free to skim or skip this section and come back to it if/when a more detailed dive into implementation is desired. However,<br>\n",
    "&emsp;&emsp;**Make sure to run all code cells so the functions are defined!!!**\n",
    "\n",
    "The following are a set of utility functions that will be used in the subsequent simulations.\n",
    "Since our goal in this exercise is to bring about a situation where the anti-islanding constraint is binding, we would like a bit more control over which buses and capacities are sampled. The following functions do just that.\n"
   ]
  },
  {
   "cell_type": "code",
   "execution_count": null,
   "metadata": {},
   "outputs": [],
   "source": [
    "def sample_bus(feeder:hca.HCA, comps:list):\n",
    "    \"\"\"This function samples feeder buses just like the hca routine\n",
    "    but adds the flexibility of limiting the component the buses\n",
    "    may belong to\n",
    "    \"\"\"\n",
    "    buslist = [b for b in list(feeder.graph_dirs[\"bus3phase\"]) + feeder.visited_buses if feeder.G.nodes[b][\"comp\"] in comps if b not in feeder.exauhsted_buses[\"pv\"]]\n",
    "    return feeder.sample_buslist(buslist)\n",
    "\n",
    "def sample_pv(feeder:hca.HCA, min:int, max:int):\n",
    "    \"\"\"Similar to the internal function of the HCA object but setup here to allow\n",
    "    sampling larger capacity more consistently\n",
    "    \"\"\"\n",
    "    kw = float(feeder.random_state.randint(min, max+1))\n",
    "    return {\"kw\": kw, \"kva\": kw/0.8}"
   ]
  },
  {
   "cell_type": "markdown",
   "metadata": {},
   "source": [
    "The next set of functions are copied and adapted from the [voltage difference activity](./vdiff_activity.ipynb).\n",
    "`get_upgrade_path` is used to find a path from the furthest node violating a particular metric to the source bus.\n",
    "This path can then be used for conductor upgrades, which is exactly what the `upgrade_until_no_violation` function does."
   ]
  },
  {
   "cell_type": "code",
   "execution_count": null,
   "metadata": {},
   "outputs": [],
   "source": [
    "#########################################################################\n",
    "####### these are some functions to get the path and perform the upgrades\n",
    "#########################################################################\n",
    "def get_upgrade_path(feeder:hca.HCA, voltagemetrics=[\"vdiff\"]):\n",
    "    \"\"\"get the path from the furthest location from the source bus where\n",
    "    a voltage difference problem occurs, to the source bus\n",
    "    \"\"\"\n",
    "    ### collect locations where voltage difference is violated\n",
    "    buses = set()\n",
    "    if \"vdiff\" in voltagemetrics:\n",
    "        buses.update(set(feeder.metrics.get_vdiff_locations()[\"v\"].keys()))\n",
    "    if \"vmax\" in voltagemetrics:\n",
    "        buses.update(set(feeder.metrics.get_volt_max_buses().keys()))\n",
    "        \n",
    "    \n",
    "    if not buses:\n",
    "        return []\n",
    "    \n",
    "    sources = []\n",
    "    upgrade_paths = []\n",
    "    path_lengths = []\n",
    "    ### for each location with a violation, find the path to the source bus\n",
    "    for b in buses:\n",
    "        nearest_source, path2source = isl.get_nearest_source(feeder.G.to_undirected(), b)\n",
    "        sources.append(nearest_source)\n",
    "        upgrade_paths.append(path2source)\n",
    "        path_lengths.append(len(path2source))\n",
    "    ### select the maximum distance to the source bus.\n",
    "    idx = np.argmax(path_lengths)\n",
    "    return upgrade_paths[idx]\n",
    "\n",
    "def upgrade_until_no_violation(feeder:hca.HCA, upgrade_path:list, \n",
    "                               limit=None, err_threshold=0.2,\n",
    "                               multiupgrade=True):\n",
    "    \"\"\"Iterate over the path to the source and upgrade the conductor \n",
    "    until no violations\n",
    "    \"\"\"\n",
    "    if not upgrade_path:\n",
    "        return\n",
    "    cnt = 0\n",
    "    err0 = None\n",
    "    for u,v in zip(upgrade_path[1:], upgrade_path[:-1]):\n",
    "        if (limit is not None) and (cnt >= limit):\n",
    "            feeder.logger.info(f\"Reached limited of {limit} upgrades. Stopping\")\n",
    "            break\n",
    "        eclass = feeder.G.edges[u,v][\"eclass\"]\n",
    "        ename = feeder.G.edges[u,v][\"ename\"]\n",
    "        if eclass.lower() == \"line\":\n",
    "            if not multiupgrade:\n",
    "                if feeder.get_data(\"upgrades\", \"line\", ename)[0] is not None:\n",
    "                    # segment already updated\n",
    "                    continue\n",
    "            feeder.upgrade_line(ename)\n",
    "            cnt += 1\n",
    "\n",
    "        ## run dss\n",
    "        feeder.reset_dss(clear_changes=False)\n",
    "        feeder.rundss()\n",
    "        if not feeder.lastres[\"converged\"]:\n",
    "            raise ValueError(\"Open DSS did not converge\")\n",
    "        \n",
    "        feeder.metrics.load_res(feeder.lastres)\n",
    "        feeder.metrics.calc_metrics()\n",
    "        \n",
    "        ## check if there are any violations\n",
    "        if feeder.metrics.violation_count == 0:\n",
    "            break\n",
    "        else:\n",
    "            err_new = feeder.metrics.violation[\"voltage\"][\"vdiff\"]\n",
    "        if err0 is not None:\n",
    "            if err_new - err0 > err_threshold:\n",
    "                feeder.logger.info(f\"Vdiff violation got worse by {err_new - err0:0.2f}%. Stopping upgrades.\")\n",
    "                break\n",
    "                \n",
    "        err0 = err_new\n"
   ]
  },
  {
   "cell_type": "markdown",
   "metadata": {},
   "source": [
    "The following two functions are used to adjust transformer taps and voltage regulator settings in the event of over-voltage violations (as well as under-voltage violations, technically).\n",
    "Note that these functions modify _all_ transformers/regulators in the `upgrade_path`, returned from the `get_upgrade_path` function."
   ]
  },
  {
   "cell_type": "code",
   "execution_count": null,
   "metadata": {},
   "outputs": [],
   "source": [
    "def change_transformer_tap(feeder:hca.HCA, upgrade_path:list, tapchange:int):\n",
    "    \"\"\"Change the transformer tap setting by tapchange \n",
    "    for any transformer found along the upgrade_path\n",
    "\n",
    "    returns True if any transformer was updated\n",
    "    \"\"\"\n",
    "    out = False\n",
    "    for u,v in zip(upgrade_path[1:], upgrade_path[:-1]):\n",
    "        eclass = feeder.G.edges[u,v][\"eclass\"]\n",
    "        ename = feeder.G.edges[u,v][\"ename\"]\n",
    "        if eclass.lower() == \"transformer\":\n",
    "            feeder.change_xfrm_tap(ename, tapchange)\n",
    "            out = True\n",
    "    return out\n",
    "\n",
    "def change_regulator_vreg(feeder:hca.HCA, upgrade_path:list, vregchange:int):\n",
    "    \"\"\"Change the regulation voltage (behind PT) for any regulator \n",
    "    found along the upgrade_path\n",
    "    \n",
    "    returns True if any regulator was updated\n",
    "    \"\"\"\n",
    "    out = False\n",
    "    for u,v in zip(upgrade_path[1:], upgrade_path[:-1]):\n",
    "        eclass = feeder.G.edges[u,v][\"eclass\"]\n",
    "        ename = feeder.G.edges[u,v][\"ename\"]\n",
    "        if eclass.lower() == \"regulator\":\n",
    "            feeder.change_regulator_vreg(ename, vregchange)\n",
    "            out = True\n",
    "    return out"
   ]
  },
  {
   "cell_type": "markdown",
   "metadata": {},
   "source": [
    "Finally, since we'll be trying to overcome several different kinds of violations, the function `check_violations` helps to quickly retest what is currently binding."
   ]
  },
  {
   "cell_type": "code",
   "execution_count": null,
   "metadata": {},
   "outputs": [],
   "source": [
    "def check_violations(feeder:hca.HCA):\n",
    "    \"\"\"rerun OpenDSS (presumably after some upgrades/updates)\n",
    "    and reevaluate the metrics\n",
    "    \"\"\"\n",
    "    feeder.reset_dss(clear_changes=False)\n",
    "    feeder.rundss()\n",
    "    if not feeder.lastres[\"converged\"]:\n",
    "        raise ValueError(\"Open DSS did not converge\")\n",
    "\n",
    "\n",
    "    feeder.metrics.load_res(feeder.lastres)\n",
    "    feeder.metrics.calc_metrics()\n",
    "\n",
    "    if feeder.metrics.violation_count > 0:\n",
    "        hca.print_config(feeder.metrics.violation, printf=feeder.logger.info, title=\"Violations\")\n",
    "    else:\n",
    "        feeder.logger.info(\"\\nNo more violations!\\n\")"
   ]
  },
  {
   "cell_type": "markdown",
   "metadata": {},
   "source": [
    "## Inverter Controls\n",
    "As a reminder from the [voltage difference exercise](./vdiff_activity.ipynb), the available inverter control choices are:\n",
    "```\n",
    "'CONSTANT_PF', 'VOLT_WATT', 'VOLT_VAR_CATA', 'VOLT_VAR_CATB', 'VOLT_VAR_AVR', 'VOLT_VAR_VOLT_WATT', 'VOLT_VAR_14H'\n",
    "```\n",
    "In the cell below, change the choices to see the different curves."
   ]
  },
  {
   "cell_type": "code",
   "execution_count": null,
   "metadata": {},
   "outputs": [],
   "source": [
    "inverter_choice=\"VOLT_VAR_CATB\"\n",
    "pltutl.inverter_control_plot(inverter_choice)"
   ]
  },
  {
   "cell_type": "markdown",
   "metadata": {},
   "source": [
    "## Simulation\n",
    "### Description\n",
    "The following simulation adds resources _only_ in component 0 (see [visualizing components section](#visualizing-components)), with the goal of pushing the simulation towards a condition where real and reactive power would balance and the islanding test would trigger a violation.\n",
    "\n",
    "To achieve this, we add fairly large resources and address the resulting upgrades as needed.\n",
    "We use a clear day profile for the solar generation to avoid the $\\Delta V$ criterion that would otherwise dominate.\n",
    "\n",
    "Finally, we want to investigate what impact inverter functions have on the result.\n",
    "\n",
    "### Step 1: Choose inverter function and initialize\n",
    "Select one of the [available inverter functions](#inverter-controls) and initialize the feeder object.\n"
   ]
  },
  {
   "cell_type": "code",
   "execution_count": null,
   "metadata": {},
   "outputs": [],
   "source": [
    "inverter_choice = \"VOLT_VAR_CATB\"\n",
    "logger_header = f\"\\n************* Island Activity (invmode={inverter_choice}) ******************\\n\"\n",
    "feeder = hca.HCA(\"./configs/island_activity.json\", \n",
    "                 logger_heading=logger_header)\n",
    "feeder.inputs[\"invmode\"] = inverter_choice\n",
    "# feeder.inputs[\"debug_output\"] = True\n",
    "feeder.runbase()"
   ]
  },
  {
   "cell_type": "markdown",
   "metadata": {},
   "source": [
    "### Step 2: Add large resources until violation\n",
    "Instead of sampling like in other exercises, we make sure to:\n",
    "1. Only sample in component 0 of the feeder (`sample_bus` function)\n",
    "2. Sample between 1 and 10 MW capacities (`sample_pv` function)\n",
    "\n",
    ">_Note:_ The `large_sample` flag is there because after several resources are added the power flow results are sometimes non-converged, even though OpenDSS technically solves. Basically, a low voltage solution is returned. In this situation, we undo the last addition and reduce the sample size to between 1 and 2 MW."
   ]
  },
  {
   "cell_type": "code",
   "execution_count": null,
   "metadata": {},
   "outputs": [],
   "source": [
    "large_sample = True\n",
    "while True:\n",
    "    bus = sample_bus(feeder, [0]) #sample only from component 0 (bottom of feeder)\n",
    "    if large_sample:\n",
    "        Sij = sample_pv(feeder, 1000, 10000) # sample between 1 MW and 10 MW\n",
    "    else:\n",
    "        Sij = sample_pv(feeder, 1000, 2000)\n",
    "    feeder.hca_round(\"pv\", bus=bus, Sij=Sij, allow_violations=True)\n",
    "    if feeder.metrics.violation_count > 0:\n",
    "        feeder.save(f\"./island_activity_files/island_activity_{inverter_choice}_{feeder.cnt}_violation.pkl\")\n",
    "        if feeder.metrics.vdiff > 50:\n",
    "            feeder.logger.info(f\"\\nUndoing round {feeder.cnt}: vdiff = {feeder.metrics.vdiff:0.2f}%\")\n",
    "            feeder.undo_hca_round(\"pv\", feeder.visited_buses[-1], feeder.cnt)\n",
    "            feeder.cnt -= 1\n",
    "\n",
    "            large_sample = False\n",
    "        else:\n",
    "            break\n",
    "    else:\n",
    "        ## save for possible re-wind\n",
    "        feeder.save(f\"./island_activity_files/island_activity_{inverter_choice}_{feeder.cnt}_pre.pkl\")"
   ]
  },
  {
   "cell_type": "markdown",
   "metadata": {},
   "source": [
    "### Step 3: Resolve violations\n",
    "Since violations occurred and we are trying to get to an islanding violation, we perform updates to get the system back to compliance.\n",
    "That is, if the binding violation is _not_ `island_pq`, we perform upgrades.\n",
    "The types of violations that are expected are:\n",
    "* Over- and Under-Voltage;\n",
    "* Thermal emergency and normal rating violations.\n",
    "\n",
    "#### Thermal upgrades\n",
    "First, the thermal violations are resolved by upgrading the overloaded conductors, similar to the the process in the [voltage difference exercise](./vdiff_activity.ipynb).\n",
    "\n",
    ">**Tip** If you'd like to see the violations on the feeder, plot them first in the [thermal violation plotting section](#thermal-violation-plotting), and then return here."
   ]
  },
  {
   "cell_type": "code",
   "execution_count": null,
   "metadata": {},
   "outputs": [],
   "source": [
    "#### thermal updates\n",
    "feeder = hca.HCA(f\"./island_activity_files/island_activity_{inverter_choice}_{feeder.cnt}_violation.pkl\",\n",
    "                 reload=True, reload_filemode=\"a\",\n",
    "                 logger_heading=f\"\\n********* Reloading pre thermal upgrades (cnt={feeder.cnt}) *********\\n\")\n",
    "feeder.metrics.load_res(feeder.lastres)\n",
    "feeder.metrics.calc_metrics()\n",
    "if np.any([\"thermal\" in v for v in feeder.metrics.last_violation_list]):\n",
    "    ## resolve thermal violations\n",
    "    for typ, names in feeder.metrics.get_thermal_branches().items():\n",
    "        for name in names:\n",
    "            if typ.lower() == 'line':\n",
    "                feeder.upgrade_line(name)\n",
    "            elif typ.lower() == \"transformer\":\n",
    "                feeder.upgrade_xfrm(name)\n",
    "    check_violations(feeder)\n",
    "feeder.save(f\"./island_activity_files/island_activity_{inverter_choice}_{feeder.cnt}_thermal.pkl\")"
   ]
  },
  {
   "cell_type": "markdown",
   "metadata": {},
   "source": [
    "#### Over-Voltage Violations\n",
    "We tackle voltage violations in two main ways:\n",
    "1. For nodes downstream from the voltage regulator (see diagrams in [`feederplots` folder](./feederplots/)) we can change the regulator voltage setting.\n",
    "2. For all other nodes we can tweak the tap setting on the substation transformer.\n",
    "\n",
    "The following code cell prints the bus and maximum voltage for all monitored buses that violate the voltage upper limit.\n",
    "\n",
    "Take a look at where these are on the feeder.\n",
    "Would you adjust the regulator setting or the substation transformer?\n",
    "\n",
    ">**Tip** You can also plot some of the actual voltage traces in the [voltage min/max plotting section](#voltage-minmax-plotting), and then return here."
   ]
  },
  {
   "cell_type": "code",
   "execution_count": null,
   "metadata": {},
   "outputs": [],
   "source": [
    "### voltage updates\n",
    "feeder = hca.HCA(f\"./island_activity_files/island_activity_{inverter_choice}_{feeder.cnt}_thermal.pkl\",\n",
    "                 reload=True, reload_filemode=\"a\",\n",
    "                 logger_heading=f\"\\n********* Reloading post thermal, pre voltage upgrades (cnt={feeder.cnt})*********\\n\")\n",
    "check_violations(feeder)\n",
    "print(\"Maximum voltage violation locations:\")\n",
    "display(pd.DataFrame(pd.Series({k: v.max() for k, v in feeder.metrics.get_volt_max_buses().items()}, name=\"max voltage [p.u.]\")))\n"
   ]
  },
  {
   "cell_type": "code",
   "execution_count": null,
   "metadata": {},
   "outputs": [],
   "source": [
    "### get a path from all maximum voltage violating locations to the substation\n",
    "upgrade_path = get_upgrade_path(feeder, voltagemetrics=[\"vmax\"])\n",
    "\n",
    "### try addressing via regulator change\n",
    "# if all buses are upstream from transformer this will not do anything\n",
    "if change_regulator_vreg(feeder, upgrade_path, -3): #-3\n",
    "    check_violations(feeder)\n",
    "\n",
    "### if no change and/or still violation, adjust the substation transformer taps\n",
    "if feeder.metrics.violation_count:\n",
    "    if change_transformer_tap(feeder, upgrade_path, 4): #4\n",
    "        check_violations(feeder)\n",
    "\n",
    "feeder.save(f\"./island_activity_files/island_activity_{inverter_choice}_{feeder.cnt}_volt.pkl\")"
   ]
  },
  {
   "cell_type": "markdown",
   "metadata": {},
   "source": [
    "### Step 4: Repeat\n",
    "At this point we go back to [Step 2](#step-2-add-large-resources-until-violation) to add another resource.\n",
    "(clicking on the link should jump you right back there.)\n",
    "\n",
    "We continue iterating from [Step 2](#step-2-add-large-resources-until-violation) to this point until either one of two things happen:\n",
    "1. The _only_ binding violation is the islanding violation `island_pq`\n",
    "2. We are out of good options for upgrading the feeder to accommodate the added resources without triggering violations.\n",
    "\n",
    "You are encouraged to occasionally utilize the plotting functions in the [Plots Section](#plotting) to visualize the violations at every step."
   ]
  },
  {
   "cell_type": "markdown",
   "metadata": {},
   "source": [
    "# Discussion\n",
    "Here is a description of the expected sequence of events along with some observations.\n",
    "## With Inverter Mode `VOLT_VAR_CATB`\n",
    ">**IMPORTANT:**<br>\n",
    ">Make sure to begin this sequence by setting `inverter_choice=\"VOLT_VAR_CATB\"` in [Step 1](#step-1-choose-inverter-function-and-initialize).\n",
    "### Sequence of Events\n",
    "* On the **first (1)** iteration \n",
    "    * Several thermal violations are remedied.\n",
    "    * Adjustment of the voltage regulator is sufficient to resolve the over-voltage violation\n",
    "* On the **second (2)** iteration\n",
    "    * Several more thermal violations are remedied.\n",
    "    * Following these, the only violation remaining is the islanding violation. Run the [island plot code cell](#plotting)\n",
    "\n",
    "### Observations\n",
    "Even though the islanding test is binding in the end, a closer look at the results reveals how this is still just a screen.\n",
    "Namely, while both component 0 (bottom of the feeder) and component 2 (exchange with substation) have a $P$ and a $Q$ zero crossing, the two don't actually coincide exactly in time.\n",
    "This fits with some of the observations mentioned in the [i2X Solution e-Xchange](https://www.energy.gov/eere/i2x/i2x-solution-e-xchanges) on the subject, where only a relatively small fraction of plants failing an anti-islanding screen actually display anti-islanding issues upon further study and therefore require DTT.\n",
    "\n",
    "## With Inverter Mode `CONSTANT_PF`\n",
    ">**IMPORTANT:**<br>\n",
    ">Make sure to begin this sequence by setting `inverter_choice=\"CONSTANT_PF\"` in [Step 1](#step-1-choose-inverter-function-and-initialize).\n",
    "### Sequence of Events\n",
    "* On the **first (1)** iteration\n",
    "    * Several thermal violations are remedied.\n",
    "    * Adjustment of the voltage regulator is sufficient to resolve the over-voltage violation\n",
    "* On the **second (2)** iteration\n",
    "    * Several more thermal violations are remedied, following which both a voltage maximum and the islanding constraints are being violated.\n",
    "    * This time the over-voltage violations are upstream of the regulator and the substation transformer tabs are adjusted. This adjustment not only resolves the over-voltage problem, but the island constraint is also lifted.\n",
    "* On the **third (3)** iteration\n",
    "    * A thermal violation is remedied.\n",
    "    * The over-voltage violation is now on both sides of the regulator, so both voltage regulator and transformer taps are adjusted.\n",
    "    * An under-voltage violation now crops up\n",
    "\n",
    "Feel free to play around more with the settings and see if you can resolve the issue.\n",
    "For example, you can restart at the [Over-Voltage Violations](#over-voltage-violations) section, which reloads the feeder prior to the last modificaitions, and try to change the number of taps the substation transformer will be shifted.  \n",
    "There are also example cells in the [Backup](#backup) section that perform further conductor upgrades.\n",
    "Utilize the [plots](#voltage-minmax-plotting) to try get a feel for where, when, and to what extent the voltage violations are occurring.\n",
    "\n",
    "### Observations\n",
    "While the violations _may_ be resolvable with sufficient upgrades on the third iteration, the more important aspect of this exercise is that the anti-islanding constraint does not play a decisive role in limiting capacity with this control mode.\n",
    "\n",
    "## Comparison\n",
    "Compare the plot for component 0, $P$ and $Q$ for the case with `VOLT_VAR_CATB` vs. `CONSTANT_PF`.\n",
    "With `VOLT_VAR_CATB`, when generation increases during the middle of the day, the reactive power moves in the opposite direction to help steady the voltage.\n",
    "As a result, a change in direction occurs with both real and reactive power, leading to the possibility of unintentional load balance.\n",
    "With `CONSTANT_PF`, on the other hand, there is far less variation in the reactive power, and as a result the change in direction does not occur.\n",
    "\n",
    "# Plotting\n",
    "## Islanding Plot\n",
    "At any point during the exercise, you can run the cell below to create a plot of feeder component import/export to try to understand why the metric is behaving the way it is.\n",
    "Definitely run this if the only active violation is the islanding one, but occasionally looking at this even if it is not binding can be helpful."
   ]
  },
  {
   "cell_type": "code",
   "execution_count": null,
   "metadata": {},
   "outputs": [],
   "source": [
    "# Give the plot a title that will have some meaning for you\n",
    "title = f\"{inverter_choice} (cnt={feeder.cnt}) islanding\"\n",
    "\n",
    "filebase = f\"./island_activity_files/island_activity_{inverter_choice}_{feeder.cnt}_island\"\n",
    "pltutl.island_plots(feeder, filebase, plot_feeder=False, \n",
    "                    title=title,\n",
    "                    include_plotlyjs='cdn', auto_open=True)"
   ]
  },
  {
   "cell_type": "markdown",
   "metadata": {},
   "source": [
    "## Voltage Min/Max Plotting\n",
    "Use the code cell below to plot maximum and minimum voltage violations.\n",
    "Note that unlike the island plots, this will not produce a meaningful plot if there is not active violation."
   ]
  },
  {
   "cell_type": "code",
   "execution_count": null,
   "metadata": {},
   "outputs": [],
   "source": [
    "title = f\"{inverter_choice} (cnt={feeder.cnt}) over- and under-voltage\"\n",
    "\n",
    "filebase = f\"./island_activity_files/island_activity_{inverter_choice}_{feeder.cnt}_vmaxmin\"\n",
    "pltutl.vmaxmin_plot(feeder, filebase, plot_feeder=True, \n",
    "                    title=title,\n",
    "                    include_plotlyjs='cdn', auto_open=True)"
   ]
  },
  {
   "cell_type": "markdown",
   "metadata": {},
   "source": [
    "## Thermal Violation Plotting\n",
    "Use the code cell below to plot the thermal violation on the feeder.\n",
    "Like the voltage plots, this only produces meaningful results if there are active violations, otherwise it just produces a feeder plot."
   ]
  },
  {
   "cell_type": "code",
   "execution_count": null,
   "metadata": {},
   "outputs": [],
   "source": [
    "title = f\"{inverter_choice} (cnt={feeder.cnt}) thermal violations\"\n",
    "\n",
    "filebase = f\"./island_activity_files/island_activity_{inverter_choice}_{feeder.cnt}_thermal\"\n",
    "pltutl.thermal_plot(feeder, filebase,\n",
    "                    title=title,\n",
    "                    include_plotlyjs='cdn', auto_open=True)"
   ]
  },
  {
   "cell_type": "markdown",
   "metadata": {},
   "source": [
    "# Backup\n",
    "The code cells below might come in useful so they are kept here as backup.\n",
    "\n",
    "**IMPORTANT:**<br>\n",
    "Order of execution matters. Simply evaluating any of these cells may not work. They only make sense in particular contexts."
   ]
  },
  {
   "cell_type": "code",
   "execution_count": null,
   "metadata": {},
   "outputs": [],
   "source": [
    "### address voltage violations\n",
    "## get upgrade path\n",
    "upgrade_path = get_upgrade_path(feeder, voltagemetrics=[\"vdiff\", \"vmax\"])\n",
    "feeder.logger.info(f\"Furthest violation from substation on bus {upgrade_path[0]}\")\n",
    "\n",
    "### Perform the upgrades\n",
    "### assumption: were not going to upgrade segments twice\n",
    "upgrade_until_no_violation(feeder, upgrade_path, limit=None, multiupgrade=False)\n",
    "check_violations(feeder)"
   ]
  },
  {
   "cell_type": "code",
   "execution_count": null,
   "metadata": {},
   "outputs": [],
   "source": [
    "### address voltage violations\n",
    "## get upgrade path\n",
    "feeder.cnt += 1\n",
    "upgrade_path = get_upgrade_path(feeder, voltagemetrics=[\"vdiff\", \"vmax\"])\n",
    "feeder.logger.info(f\"Furthest violation from substation on bus {upgrade_path[0]}\")\n",
    "\n",
    "### Perform the upgrades\n",
    "### assumption: were not going to upgrade segments twice\n",
    "upgrade_until_no_violation(feeder, upgrade_path, err_threshold=0.5,\n",
    "                           limit=None, multiupgrade=True)\n",
    "check_violations(feeder)"
   ]
  },
  {
   "cell_type": "code",
   "execution_count": null,
   "metadata": {},
   "outputs": [],
   "source": [
    "## verify that an inverter control has indeed been applied in dss\n",
    "feeder.verify_inverter_mode(verbose=True)"
   ]
  },
  {
   "cell_type": "code",
   "execution_count": null,
   "metadata": {},
   "outputs": [],
   "source": [
    "## List all line upgrades\n",
    "pd.concat([\n",
    "    feeder.get_data(\"upgrades\", \"line\", cnt=i) for i in range(feeder.cnt,0,-1)\n",
    "    ], axis=0).sort_values(\"cnt\").groupby(level=0).agg({\n",
    "        \"old\": \"first\", \"new\": \"last\", \n",
    "        \"length\": \"sum\", \"cost\": \"sum\", \n",
    "        \"cnt\": \"count\"\n",
    "        })"
   ]
  },
  {
   "cell_type": "code",
   "execution_count": null,
   "metadata": {},
   "outputs": [],
   "source": [
    "## check regulator status\n",
    "idx = feeder.dss.regcontrols.first()\n",
    "print(feeder.dss.regcontrols.name)\n",
    "print(feeder.dss.regcontrols.forward_vreg)\n",
    "print(feeder.dss.regcontrols.reverse_vreg)"
   ]
  }
 ],
 "metadata": {
  "kernelspec": {
   "display_name": "i2x",
   "language": "python",
   "name": "python3"
  },
  "language_info": {
   "codemirror_mode": {
    "name": "ipython",
    "version": 3
   },
   "file_extension": ".py",
   "mimetype": "text/x-python",
   "name": "python",
   "nbconvert_exporter": "python",
   "pygments_lexer": "ipython3",
   "version": "3.10.12"
  }
 },
 "nbformat": 4,
 "nbformat_minor": 2
}
